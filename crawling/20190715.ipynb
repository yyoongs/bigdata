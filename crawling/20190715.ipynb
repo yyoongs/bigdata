{
 "cells": [
  {
   "cell_type": "markdown",
   "metadata": {},
   "source": [
    "# 20190715 DAY11"
   ]
  },
  {
   "cell_type": "markdown",
   "metadata": {},
   "source": [
    "## Crawling"
   ]
  },
  {
   "cell_type": "markdown",
   "metadata": {},
   "source": [
    "BeautifulSoup 은 html로 parsing\n",
    "\n",
    "scrapy는 봇\n",
    "\n",
    "file repository / work-pool handler가 저장되는 부분\n",
    "\n"
   ]
  },
  {
   "cell_type": "code",
   "execution_count": 14,
   "metadata": {},
   "outputs": [],
   "source": [
    "from bs4 import BeautifulSoup"
   ]
  },
  {
   "cell_type": "code",
   "execution_count": 17,
   "metadata": {},
   "outputs": [],
   "source": [
    "import html"
   ]
  },
  {
   "cell_type": "code",
   "execution_count": 119,
   "metadata": {},
   "outputs": [],
   "source": [
    "import requests\n",
    "\n",
    "def download(method, url, params=None, data=None, headers=None):\n",
    "    try:\n",
    "        resp = requests.request(method, url, params=params,data=data,headers=headers)\n",
    "    except requests.exceptionsp.HTTPerror as e:\n",
    "        print(e.code)\n",
    "        print(e.reason)\n",
    "    \n",
    "    return resp\n"
   ]
  },
  {
   "cell_type": "code",
   "execution_count": 30,
   "metadata": {},
   "outputs": [],
   "source": [
    "url = \"https://www.google.com/search?ei=jdgrXYnLPISr8QW3_pewBA&q=%EB%B0%95%EB%B3%B4%EC%98%81&oq=%EB%B0%95%EB%B3%B4%EC%98%81&gs_l=psy-ab.3..0l10.1850843.1852624..1852692...3.0..1.116.1082.2j9......0....1..gws-wiz.....0..0i10j0i131j0i10i42._FL24nch5gE\"\n",
    "\n",
    "html = download(\"get\",url)"
   ]
  },
  {
   "cell_type": "code",
   "execution_count": 31,
   "metadata": {},
   "outputs": [
    {
     "data": {
      "text/plain": [
       "['https://www.google.com/?sa=X&ved=0ahUKEwi9wvri67XjAhVjNKYKHeY_A54QOwgC',\n",
       " 'https://www.google.com/?output=search&ie=UTF-8&sa=X&ved=0ahUKEwi9wvri67XjAhVjNKYKHeY_A54QPAgE',\n",
       " 'https://www.google.com/search?q=%EB%B0%95%EB%B3%B4%EC%98%81&ie=UTF-8&gbv=1&sei=G-ArXf3IKuPomAXm_4zwCQ',\n",
       " 'https://www.google.com/search?q=%EB%B0%95%EB%B3%B4%EC%98%81&ie=UTF-8&source=lnms&tbm=isch&sa=X&ved=0ahUKEwi9wvri67XjAhVjNKYKHeY_A54Q_AUICCgB',\n",
       " 'https://www.google.com/search?q=%EB%B0%95%EB%B3%B4%EC%98%81&ie=UTF-8&source=lnms&tbm=vid&sa=X&ved=0ahUKEwi9wvri67XjAhVjNKYKHeY_A54Q_AUICSgC',\n",
       " 'https://www.google.com/search?q=%EB%B0%95%EB%B3%B4%EC%98%81&ie=UTF-8&source=lnms&tbm=nws&sa=X&ved=0ahUKEwi9wvri67XjAhVjNKYKHeY_A54Q_AUICigD',\n",
       " 'https://maps.google.com/maps?q=%EB%B0%95%EB%B3%B4%EC%98%81&um=1&ie=UTF-8&sa=X&ved=0ahUKEwi9wvri67XjAhVjNKYKHeY_A54Q_AUICygE',\n",
       " 'https://www.google.com/search?q=%EB%B0%95%EB%B3%B4%EC%98%81&ie=UTF-8&source=lnms&tbm=shop&sa=X&ved=0ahUKEwi9wvri67XjAhVjNKYKHeY_A54Q_AUIDCgF',\n",
       " 'https://www.google.com/search?q=%EB%B0%95%EB%B3%B4%EC%98%81&ie=UTF-8&source=lnms&tbm=bks&sa=X&ved=0ahUKEwi9wvri67XjAhVjNKYKHeY_A54Q_AUIDSgG',\n",
       " 'https://www.google.com/advanced_search',\n",
       " 'https://www.google.com/search?q=%EB%B0%95%EB%B3%B4%EC%98%81&ie=UTF-8&source=lnt&tbs=lr:lang_1ko&lr=lang_ko&sa=X&ved=0ahUKEwi9wvri67XjAhVjNKYKHeY_A54QpwUIDw',\n",
       " 'https://www.google.com/search?q=%EB%B0%95%EB%B3%B4%EC%98%81&ie=UTF-8&source=lnt&tbs=qdr:h&sa=X&ved=0ahUKEwi9wvri67XjAhVjNKYKHeY_A54QpwUIEQ',\n",
       " 'https://www.google.com/search?q=%EB%B0%95%EB%B3%B4%EC%98%81&ie=UTF-8&source=lnt&tbs=qdr:d&sa=X&ved=0ahUKEwi9wvri67XjAhVjNKYKHeY_A54QpwUIEg',\n",
       " 'https://www.google.com/search?q=%EB%B0%95%EB%B3%B4%EC%98%81&ie=UTF-8&source=lnt&tbs=qdr:w&sa=X&ved=0ahUKEwi9wvri67XjAhVjNKYKHeY_A54QpwUIEw',\n",
       " 'https://www.google.com/search?q=%EB%B0%95%EB%B3%B4%EC%98%81&ie=UTF-8&source=lnt&tbs=qdr:m&sa=X&ved=0ahUKEwi9wvri67XjAhVjNKYKHeY_A54QpwUIFA',\n",
       " 'https://www.google.com/search?q=%EB%B0%95%EB%B3%B4%EC%98%81&ie=UTF-8&source=lnt&tbs=qdr:y&sa=X&ved=0ahUKEwi9wvri67XjAhVjNKYKHeY_A54QpwUIFQ',\n",
       " 'https://www.google.com/search?q=%EB%B0%95%EB%B3%B4%EC%98%81&ie=UTF-8&source=lnt&tbs=li:1&sa=X&ved=0ahUKEwi9wvri67XjAhVjNKYKHeY_A54QpwUIFw',\n",
       " 'https://www.google.com/url?q=https://ko.wikipedia.org/wiki/%25EB%25B0%2595%25EB%25B3%25B4%25EC%2598%2581%25EC%259D%2598_%25EC%259E%2591%25ED%2592%2588_%25EB%25AA%25A9%25EB%25A1%259D&sa=U&ved=2ahUKEwi9wvri67XjAhVjNKYKHeY_A54QwW4wAHoECAsQAg&usg=AOvVaw127ROyXH3k5yfyURz8EDhX',\n",
       " 'https://www.google.com/url?q=https://ko.wikipedia.org/wiki/%25EB%25B0%2595%25EB%25B3%25B4%25EC%2598%2581&sa=U&ved=2ahUKEwi9wvri67XjAhVjNKYKHeY_A54QmhMwAnoECAsQBw&usg=AOvVaw2WyqguSwREVBiMmM4w4QRs',\n",
       " 'https://www.google.com/search?ie=UTF-8&q=%EC%A6%9D%ED%8F%89%EA%B5%B0&stick=H4sIAAAAAAAAAOPgE-LSz9U3MDM3SzbLUeIEsY2LTQ2ytMSyk630C1LzC3JSgVRRcX6eVVJ-Ud4iVs43y-a-7e98tXUDAO4NjWU9AAAA&sa=X&ved=2ahUKEwi9wvri67XjAhVjNKYKHeY_A54QmxMwBHoECAsQCQ',\n",
       " 'https://www.google.com/search?ie=UTF-8&q=%EB%8B%A8%EA%B5%AD%EB%8C%80%ED%95%99%EA%B5%90&stick=H4sIAAAAAAAAAOPgE-LSz9U3MDM3SzbLUeIEsU3K8tKKtKSzk630C1LzC3JSgVRRcX6eVWpKaXJiSWZ-3iJW_tfdK15tXfu6p-Ht1Jmvtk4AAMc2R6tIAAAA&sa=X&ved=2ahUKEwi9wvri67XjAhVjNKYKHeY_A54QmxMwCHoECAsQDg',\n",
       " 'https://www.google.com/search?ie=UTF-8&q=%ED%9E%98%EC%8E%88%EC%97%AC%EC%9E%90+%EB%8F%84%EB%B4%89%EC%88%9C&stick=H4sIAAAAAAAAAONgFuLSz9U3MDM3SzbLUeLVT9c3NEyKNypIKs8p0VLNTrbSL0jNL8hJBVJFxfl5ViVlusUZ-eXFuol5Kbq5-WWZqcWLWMXezpvxpq_jzfQ1b-ZNUHjd3_J6S-ebjjkA2KMIvV0AAAA&sa=X&ved=2ahUKEwi9wvri67XjAhVjNKYKHeY_A54Q0I4BMAl6BAgLEBE',\n",
       " 'https://www.google.com/search?ie=UTF-8&q=%EC%96%B4%EB%B9%84%EC%8A%A4&stick=H4sIAAAAAAAAAONgFuLSz9U3MDM3SzbLUeLVT9c3NEzLNk4xTDMw1FLNTrbSL0jNL8hJBVJFxfl5ViVlusUZ-eXFuol5Kbq5-WWZqcWLWDnfTNvyemfLm64lAOaojLJQAAAA&sa=X&ved=2ahUKEwi9wvri67XjAhVjNKYKHeY_A54Q0I4BMAl6BAgLEBM',\n",
       " 'https://www.google.com/search?ie=UTF-8&q=%EC%98%A4+%EB%82%98%EC%9D%98+%EA%B7%80%EC%8B%A0%EB%8B%98&stick=H4sIAAAAAAAAAONgFuLSz9U3MDM3SzbLUeLVT9c3NEyqLDIyzTEy11LNTrbSL0jNL8hJBVJFxfl5ViVlusUZ-eXFuol5Kbq5-WWZqcWLWEXezFii8Lppxpu5MxRebW94073gdfcMALD44hxbAAAA&sa=X&ved=2ahUKEwi9wvri67XjAhVjNKYKHeY_A54Q0I4BMAl6BAgLEBU',\n",
       " 'https://www.google.com/search?ie=UTF-8&q=%EB%84%88%EC%9D%98+%EA%B2%B0%ED%98%BC%EC%8B%9D&stick=H4sIAAAAAAAAAONgFuLSz9U3MDM3SzbLUeLVT9c3NEwzNDQ1MjEp01LNTrbSL0jNL8hJBVJFxfl5ViVlusUZ-eXFuol5Kbq5-WWZqcWLWAVet3S8mTtD4dWmDW9n7HnTPRcA_YbLEVcAAAA&sa=X&ved=2ahUKEwi9wvri67XjAhVjNKYKHeY_A54Q0I4BMAl6BAgLEBc',\n",
       " 'https://www.google.com/search?ie=UTF-8&q=%EB%8A%91%EB%8C%80%EC%86%8C%EB%85%84&stick=H4sIAAAAAAAAAONgFuLSz9U3MDM3SzbLUQKzcyxSclKytFSzk630C1LzC3JSgVRRcX6eVUmZbnFGfnmxbmJeim5ufllmavEiVp7XXRNf9zS8aet53doCAFl8bS9QAAAA&sa=X&ved=2ahUKEwi9wvri67XjAhVjNKYKHeY_A54Q0I4BMAl6BAgLEBk',\n",
       " 'https://www.google.com/search?ie=UTF-8&q=%ED%94%BC%EB%81%93%EB%8A%94+%EC%B2%AD%EC%B6%98&stick=H4sIAAAAAAAAAONgFuLSz9U3MDM3SzbLUQKzq0oySrLNtVSzk630C1LzC3JSgVRRcX6eVUmZbnFGfnmxbmJeim5ufllmavEiVoG3U_a8bpz8umuKwptNa99smwEAjeQCLlQAAAA&sa=X&ved=2ahUKEwi9wvri67XjAhVjNKYKHeY_A54Q0I4BMAl6BAgLEBs',\n",
       " 'https://www.google.com/search?ie=UTF-8&q=%EB%B0%95%ED%98%95%EC%8B%9D&stick=H4sIAAAAAAAAAONgFuLSz9U3MDM3SzbLUQKzM4yTDOMNtaSyk630C1LzC3JSgVRRcX6eVXFmSmp5YmXxIlbO1xumvp0x9U33XABPNK12QgAAAA&sa=X&ved=2ahUKEwi9wvri67XjAhVjNKYKHeY_A54Q0I4BMAp6BAgLEB4',\n",
       " 'https://www.google.com/search?ie=UTF-8&q=%EC%95%88%ED%9A%A8%EC%84%AD&stick=H4sIAAAAAAAAAONgFuLSz9U3MDM3SzbLUeLVT9c3NEzOTTctLCsz05LKTrbSL0jNL8hJBVJFxfl5VsWZKanliZXFi1g530zteDtrxZuWtQC8eeawRQAAAA&sa=X&ved=2ahUKEwi9wvri67XjAhVjNKYKHeY_A54Q0I4BMAp6BAgLECA',\n",
       " 'https://www.google.com/search?ie=UTF-8&q=%EA%B9%80%EC%98%81%EA%B4%91&stick=H4sIAAAAAAAAAONgFuLSz9U3MDM3SzbLUQKzs0vKKyzLtaSyk630C1LzC3JSgVRRcX6eVXFmSmp5YmXxIlbOVzsb3sxofLVlIgA5ZzGcQgAAAA&sa=X&ved=2ahUKEwi9wvri67XjAhVjNKYKHeY_A54Q0I4BMAp6BAgLECI',\n",
       " 'https://www.google.com/search?ie=UTF-8&q=%EC%A1%B0%EC%A0%95%EC%84%9D&stick=H4sIAAAAAAAAAONgFuLSz9U3MDM3SzbLUQKzsyxzy80qtaSyk630C1LzC3JSgVRRcX6eVXFmSmp5YmXxIlbONws3vFkw9U3LXABScTgSQgAAAA&sa=X&ved=2ahUKEwi9wvri67XjAhVjNKYKHeY_A54Q0I4BMAp6BAgLECQ',\n",
       " 'https://www.google.com/search?ie=UTF-8&q=%EC%A7%80%EC%88%98+(%EB%B0%B0%EC%9A%B0)&stick=H4sIAAAAAAAAAONgFuLSz9U3MDM3SzbLUeIGsQ2NTcoMLAq1pLKTrfQLUvMLclKBVFFxfp5VcWZKanliZfEiVv43yxvedMxQ0Hi9YcObWRs0ASobLhNJAAAA&sa=X&ved=2ahUKEwi9wvri67XjAhVjNKYKHeY_A54Q0I4BMAp6BAgLECY',\n",
       " 'https://www.google.com/search?ie=UTF-8&q=%EB%B0%95%EB%B3%B4%EA%B2%80&stick=H4sIAAAAAAAAAONgFuLSz9U3MDM3SzbLUeIGsQ0NCrIzqvK0pLKTrfQLUvMLclKBVFFxfp5VcWZKanliZfEiVs7XG6a-3rzl1aYGAJ8PbZtDAAAA&sa=X&ved=2ahUKEwi9wvri67XjAhVjNKYKHeY_A54Q0I4BMAp6BAgLECg',\n",
       " 'https://www.google.com/search?ie=UTF-8&ei=G-ArXf3IKuPomAXm_4zwCQ&q=%EB%B0%95%EB%B3%B4%EC%98%81&tbm=isch&sa=X&ved=2ahUKEwi9wvri67XjAhVjNKYKHeY_A54QsAR6BAgKEAE',\n",
       " 'https://www.google.com/search?ie=UTF-8&ei=G-ArXf3IKuPomAXm_4zwCQ&q=%EB%B0%95%EB%B3%B4%EC%98%81&tbm=isch&sa=X&ved=2ahUKEwi9wvri67XjAhVjNKYKHeY_A54Q7Al6BAgKEAI',\n",
       " 'https://www.google.com/url?q=http://www.google.com/imgres%3Fimgurl%3Dhttps://pds.joins.com//news/component/htmlphoto_mmdata/201808/19/5277e53b-623d-47cc-ad96-d5264ef784a0.jpg%26imgrefurl%3Dhttps://news.joins.com/article/22895953%26h%3D359%26w%3D559%26tbnid%3DwQNiyf9y-wamvM:%26q%3D%25EB%25B0%2595%25EB%25B3%25B4%25EC%2598%2581%26tbnh%3D90%26tbnw%3D140%26usg%3DAI4_-kQS_WzSm1Pu_42_HSsqLgJf42W-sw%26vet%3D1%26docid%3DC8ZtkDOVE_dHNM&sa=U&ved=2ahUKEwi9wvri67XjAhVjNKYKHeY_A54QwW4wC3oECAoQBA&usg=AOvVaw1ixzrvR63oJag-QsffAubC',\n",
       " 'https://www.google.com/url?q=http://www.google.com/imgres%3Fimgurl%3Dhttps://upload.wikimedia.org/wikipedia/commons/thumb/c/ca/%2525EC%252598%252581%2525ED%252599%252594_%252527%2525EB%252584%252588%2525EC%25259D%252598_%2525EA%2525B2%2525B0%2525ED%252598%2525BC%2525EC%25258B%25259D%252527_%2525EC%252596%2525B8%2525EB%2525A1%2525A0%2525EC%25258B%25259C%2525EC%252582%2525AC%2525ED%25259A%25258C_%2525EB%2525B0%252595%2525EB%2525B3%2525B4%2525EC%252598%252581.jpg/250px-%2525EC%252598%252581%2525ED%252599%252594_%252527%2525EB%252584%252588%2525EC%25259D%252598_%2525EA%2525B2%2525B0%2525ED%252598%2525BC%2525EC%25258B%25259D%252527_%2525EC%252596%2525B8%2525EB%2525A1%2525A0%2525EC%25258B%25259C%2525EC%252582%2525AC%2525ED%25259A%25258C_%2525EB%2525B0%252595%2525EB%2525B3%2525B4%2525EC%252598%252581.jpg%26imgrefurl%3Dhttps://ko.wikipedia.org/wiki/%2525EB%2525B0%252595%2525EB%2525B3%2525B4%2525EC%252598%252581%2525EC%25259D%252598_%2525EC%25259E%252591%2525ED%252592%252588_%2525EB%2525AA%2525A9%2525EB%2525A1%25259D%26h%3D241%26w%3D250%26tbnid%3DxOImokeRI5yHTM:%26q%3D%25EB%25B0%2595%25EB%25B3%25B4%25EC%2598%2581%26tbnh%3D90%26tbnw%3D93%26usg%3DAI4_-kS8gMob_8qPRB5SoTQCyk-A8IMtsA%26vet%3D1%26docid%3DVhhxhBJ2kummAM&sa=U&ved=2ahUKEwi9wvri67XjAhVjNKYKHeY_A54QwW4wDHoECAoQBg&usg=AOvVaw2dl10PWc4xvWua79VLM3-Y',\n",
       " 'https://www.google.com/url?q=http://www.google.com/imgres%3Fimgurl%3Dhttps://upload.wikimedia.org/wikipedia/commons/thumb/d/d3/%2525EB%2525B0%252595%2525EB%2525B3%2525B4%2525EC%252598%252581%25252C_%2525EB%2525B9%2525A0%2525EC%2525A0%2525B8%2525EB%252593%25259C%2525EB%25258A%252594_%2525EC%25258B%2525AC%2525EC%2525BF%2525B5_%2525EA%2525BD%252583%2525EB%2525AF%2525B8%2525EC%252586%25258C.jpg/250px-%2525EB%2525B0%252595%2525EB%2525B3%2525B4%2525EC%252598%252581%25252C_%2525EB%2525B9%2525A0%2525EC%2525A0%2525B8%2525EB%252593%25259C%2525EB%25258A%252594_%2525EC%25258B%2525AC%2525EC%2525BF%2525B5_%2525EA%2525BD%252583%2525EB%2525AF%2525B8%2525EC%252586%25258C.jpg%26imgrefurl%3Dhttps://ko.wikipedia.org/wiki/%2525EB%2525B0%252595%2525EB%2525B3%2525B4%2525EC%252598%252581%26h%3D274%26w%3D250%26tbnid%3Dnvh51rH2gkTVnM:%26q%3D%25EB%25B0%2595%25EB%25B3%25B4%25EC%2598%2581%26tbnh%3D90%26tbnw%3D81%26usg%3DAI4_-kSRozG2e_2Btlyatb10T-papghVKw%26vet%3D1%26docid%3Dgv9t4wBBoSNPfM&sa=U&ved=2ahUKEwi9wvri67XjAhVjNKYKHeY_A54QwW4wDXoECAoQCA&usg=AOvVaw2rzW3aF6os7Nz4F4NOhcka',\n",
       " 'https://www.google.com/url?q=http://www.google.com/imgres%3Fimgurl%3Dhttp://img.hani.co.kr/imgdb/resize/2018/0913/00500829_20180913.JPG%26imgrefurl%3Dhttp://www.hani.co.kr/arti/culture/jejuand/861888.html%26h%3D646%26w%3D970%26tbnid%3DbeN0XxjR_ov-5M:%26q%3D%25EB%25B0%2595%25EB%25B3%25B4%25EC%2598%2581%26tbnh%3D90%26tbnw%3D135%26usg%3DAI4_-kS9Jm1KqOZ4PtA5v6_mVrREC-7x_A%26vet%3D1%26docid%3D7KRexChVf6zkmM&sa=U&ved=2ahUKEwi9wvri67XjAhVjNKYKHeY_A54QwW4wDnoECAoQCg&usg=AOvVaw1HojJHKzrZduDJCUvQGwpg',\n",
       " 'https://www.google.com/url?q=http://www.google.com/imgres%3Fimgurl%3Dhttps://t1.daumcdn.net/cfile/tistory/2641FF4C5900DDDE1E%26imgrefurl%3Dhttps://www.multiwriter.co.kr/1107%26h%3D463%26w%3D727%26tbnid%3DYqSnYbyFrgLWQM:%26q%3D%25EB%25B0%2595%25EB%25B3%25B4%25EC%2598%2581%26tbnh%3D90%26tbnw%3D141%26usg%3DAI4_-kS84QeAAO8rKWzlyA1tk8Box93B1w%26vet%3D1%26docid%3D23MwwyJKdsq-MM&sa=U&ved=2ahUKEwi9wvri67XjAhVjNKYKHeY_A54QwW4wD3oECAoQDA&usg=AOvVaw1b7jX9t06ABhRqulDyeIzC',\n",
       " 'https://www.google.com/url?q=http://www.google.com/imgres%3Fimgurl%3Dhttps://pds.joins.com/news/component/htmlphoto_mmdata/201808/16/htm_20180816102133417193.jpg%26imgrefurl%3Dhttps://news.joins.com/article/22889198%26h%3D1200%26w%3D800%26tbnid%3DI5GAD8VGwqelfM:%26q%3D%25EB%25B0%2595%25EB%25B3%25B4%25EC%2598%2581%26tbnh%3D90%26tbnw%3D60%26usg%3DAI4_-kRmqhsCfmR3xWlFZ20o_-WO-wFr3Q%26vet%3D1%26docid%3DhJ_jR4ybaTCDcM&sa=U&ved=2ahUKEwi9wvri67XjAhVjNKYKHeY_A54QwW4wEHoECAoQDg&usg=AOvVaw3N5rDOmy82oecikUooWz2R',\n",
       " 'https://www.google.com/search?ie=UTF-8&ei=G-ArXf3IKuPomAXm_4zwCQ&q=%EB%B0%95%EB%B3%B4%EC%98%81&tbm=isch&sa=X&ved=2ahUKEwi9wvri67XjAhVjNKYKHeY_A54Q7Al6BAgKEA8',\n",
       " 'https://www.google.com/url?q=https://ko.wikipedia.org/wiki/%25EB%25B0%2595%25EB%25B3%25B4%25EC%2598%2581&sa=U&ved=2ahUKEwi9wvri67XjAhVjNKYKHeY_A54QFjARegQIBxAB&usg=AOvVaw3e63dFUwWsc-LUhDxTNrqD',\n",
       " 'https://www.google.com/url?q=https://ko.wikipedia.org/wiki/%25EB%25B0%2595%25EB%25B3%25B4%25EC%2598%2581%23%25EC%2595%25BD%25EB%25A0%25A5&sa=U&ved=2ahUKEwi9wvri67XjAhVjNKYKHeY_A54Q0gIwEXoECAcQAg&usg=AOvVaw1ohwEuQeXNZpncaKYWq_kt',\n",
       " 'https://www.google.com/url?q=https://ko.wikipedia.org/wiki/%25EB%25B0%2595%25EB%25B3%25B4%25EC%2598%2581%23%25EC%2584%25B1%25EC%259E%25A5_%25EA%25B3%25BC%25EC%25A0%2595&sa=U&ved=2ahUKEwi9wvri67XjAhVjNKYKHeY_A54Q0gIwEXoECAcQAw&usg=AOvVaw3Xyu1EPUPmsRgTBuO0ZVKC',\n",
       " 'https://www.google.com/url?q=https://ko.wikipedia.org/wiki/%25EB%25B0%2595%25EB%25B3%25B4%25EC%2598%2581%23%25EC%2583%2581%25EC%2584%25B8_%25EA%25B2%25BD%25EB%25A0%25A5&sa=U&ved=2ahUKEwi9wvri67XjAhVjNKYKHeY_A54Q0gIwEXoECAcQBA&usg=AOvVaw3adInOVIKkd5eTwECG87ym',\n",
       " 'https://www.google.com/url?q=https://ko.wikipedia.org/wiki/%25EB%25B0%2595%25EB%25B3%25B4%25EC%2598%2581%23%25EA%25B8%25B0%25ED%2583%2580&sa=U&ved=2ahUKEwi9wvri67XjAhVjNKYKHeY_A54Q0gIwEXoECAcQBQ&usg=AOvVaw3fNLU-ikisotX6UGprFvvE',\n",
       " 'https://www.google.com/url?q=https://ko.wikipedia.org/wiki/%25EB%25B0%25B0%25EC%259A%25B0&sa=U&ved=2ahUKEwi9wvri67XjAhVjNKYKHeY_A54Qs2YwEXoECAcQCg&usg=AOvVaw0XyX84JGblKJJnh9gn0Qez',\n",
       " 'https://www.google.com/url?q=https://ko.wikipedia.org/wiki/%25EB%25B0%2595%25EB%25B3%25B4%25EC%2598%2581%25EC%259D%2598_%25EC%2588%2598%25EC%2583%2581_%25EB%25B0%258F_%25ED%259B%2584%25EB%25B3%25B4_%25EB%25AA%25A9%25EB%25A1%259D&sa=U&ved=2ahUKEwi9wvri67XjAhVjNKYKHeY_A54Qs2YwEXoECAcQDA&usg=AOvVaw0sj0TmcaMBInjMftVQ2lXd',\n",
       " 'https://www.google.com/url?q=https://ko.wikipedia.org/wiki/%25EB%25B0%2595%25EB%25B3%25B4%25EC%2598%2581%25EC%259D%2598_%25EC%259E%2591%25ED%2592%2588_%25EB%25AA%25A9%25EB%25A1%259D&sa=U&ved=2ahUKEwi9wvri67XjAhVjNKYKHeY_A54QFjASegQIAhAB&usg=AOvVaw05WP4NWO4b0DQbJDugLpcH',\n",
       " 'https://www.google.com/url?q=https://namu.wiki/w/%25EB%25B0%2595%25EB%25B3%25B4%25EC%2598%2581&sa=U&ved=2ahUKEwi9wvri67XjAhVjNKYKHeY_A54QFjATegQIBhAB&usg=AOvVaw051Qo79AYWha-R-Fjo1d3F',\n",
       " 'https://www.google.com/url?q=https://namu.wiki/w/%25EB%25B0%2595%25EB%25B3%25B4%25EC%2598%2581(%25EB%25B2%2595%25EC%25A1%25B0%25EC%259D%25B8)&sa=U&ved=2ahUKEwi9wvri67XjAhVjNKYKHeY_A54Q0gIwE3oECAYQAw&usg=AOvVaw11DU-5YMt5nZL0tjuaBk0V',\n",
       " 'https://www.google.com/url?q=https://namu.wiki/w/%25EB%2584%2588%25EC%259D%2598%2520%25EA%25B2%25B0%25ED%2598%25BC%25EC%258B%259D&sa=U&ved=2ahUKEwi9wvri67XjAhVjNKYKHeY_A54Q0gIwE3oECAYQBA&usg=AOvVaw2-TB3NveZQ5U11VK8Uj1M0',\n",
       " 'https://www.google.com/url?q=https://namu.wiki/w/%25ED%259E%2598%25EC%258E%2588%25EC%2597%25AC%25EC%259E%2590%2520%25EB%258F%2584%25EB%25B4%2589%25EC%2588%259C&sa=U&ved=2ahUKEwi9wvri67XjAhVjNKYKHeY_A54Q0gIwE3oECAYQBQ&usg=AOvVaw0buZ-D7IwRP5xvW8FMiitZ',\n",
       " 'https://www.google.com/url?q=https://namu.wiki/w/%25EA%25B0%259C%25EC%258B%25A0%25EA%25B5%2590&sa=U&ved=2ahUKEwi9wvri67XjAhVjNKYKHeY_A54Qs2YwE3oECAYQCA&usg=AOvVaw0y-xbNS0TANVSH8s_NYnUx',\n",
       " 'https://www.google.com/url?q=https://news.joins.com/article/22895953&sa=U&ved=2ahUKEwi9wvri67XjAhVjNKYKHeY_A54QFjAUegQIBRAB&usg=AOvVaw3uE8QopVrMGpuGfM8k1TBf',\n",
       " 'https://www.google.com/url?q=https://www.youtube.com/watch%3Fv%3DM6w1XcxejBg&sa=U&ved=2ahUKEwi9wvri67XjAhVjNKYKHeY_A54QtwIwFXoECAgQAQ&usg=AOvVaw0QE47tJ62NDknmXBx5q6JX',\n",
       " 'https://www.google.com/url?q=https://www.youtube.com/watch%3Fv%3DM6w1XcxejBg&sa=U&ved=2ahUKEwi9wvri67XjAhVjNKYKHeY_A54QuAIwFXoECAgQAg&usg=AOvVaw2-wr0Yo5HmNgaH46i_qFeN',\n",
       " 'https://www.google.com/url?q=https://www.youtube.com/watch%3Fv%3DSAC2EHpNbvg&sa=U&ved=2ahUKEwi9wvri67XjAhVjNKYKHeY_A54QtwIwFnoECAkQAQ&usg=AOvVaw3ss-qC6RKVapGW8N8J3evi',\n",
       " 'https://www.google.com/url?q=https://www.youtube.com/watch%3Fv%3DSAC2EHpNbvg&sa=U&ved=2ahUKEwi9wvri67XjAhVjNKYKHeY_A54QuAIwFnoECAkQAg&usg=AOvVaw1QCEZQzjDrVRv5U-iqKSZH',\n",
       " 'https://www.google.com/url?q=https://www.msn.com/ko-kr/entertainment/news/%25EB%25B0%2595%25EB%25B3%25B4%25EC%2598%2581-tvn-%25EB%2593%259C%25EB%259D%25BC%25EB%25A7%2588-%25EC%2596%25B4%25EB%25B9%2584%25EC%258A%25A4-%25EC%2597%25AC%25EC%25A3%25BC%25EC%259D%25B8%25EA%25B3%25B5/ar-BBLZzVh&sa=U&ved=2ahUKEwi9wvri67XjAhVjNKYKHeY_A54QFjAXegQIARAB&usg=AOvVaw0iYTC3iq-ECeo_cGDptbev',\n",
       " 'https://www.google.com/url?q=https://www.msn.com/ko-kr/entertainment/tv/hd%25EC%258A%25A4%25ED%2586%25A0%25EB%25A6%25AC-%25EC%259E%2591%25EC%259D%2580-%25EA%25B1%25B0%25EC%259D%25B8-%25EB%25B0%2595%25EB%25B3%25B4%25EC%2598%2581%25E2%2580%25A6%25EA%25B7%25B8%25EC%259D%2598-%25EC%2597%25B0%25EA%25B8%25B0%25EC%2597%2590-%25EB%258C%2580%25ED%2595%259C-%25ED%259D%2594%25EC%25A0%2581%25EB%2593%25A4/ar-BBUvL0V&sa=U&ved=2ahUKEwi9wvri67XjAhVjNKYKHeY_A54QFjAYegQIBBAB&usg=AOvVaw3dbsZoZh9o5WbaLn-DBfk_',\n",
       " 'https://www.google.com/url?q=https://movie.daum.net/person/main%3FpersonId%3D105244&sa=U&ved=2ahUKEwi9wvri67XjAhVjNKYKHeY_A54QFjAZegQIAxAB&usg=AOvVaw1F_Pho3iSBE2ddbwhFOXH2',\n",
       " 'https://www.google.com/search?ie=UTF-8&q=%EB%B0%95%EB%B3%B4%EC%98%81+%EB%82%98%EC%9D%B4&sa=X&ved=2ahUKEwi9wvri67XjAhVjNKYKHeY_A54Q1QJ6BAgAEAE',\n",
       " 'https://www.google.com/search?ie=UTF-8&q=%EB%B0%95%EB%B3%B4%EC%98%81+%EB%82%98%EC%9D%B4',\n",
       " 'https://www.google.com/search?ie=UTF-8&q=%EB%B0%95%EB%B3%B4%EC%98%81+%EB%93%9C%EB%9D%BC%EB%A7%88&sa=X&ved=2ahUKEwi9wvri67XjAhVjNKYKHeY_A54Q1QJ6BAgAEAI',\n",
       " 'https://www.google.com/search?ie=UTF-8&q=%EB%B0%95%EB%B3%B4%EC%98%81+%EB%93%9C%EB%9D%BC%EB%A7%88',\n",
       " 'https://www.google.com/search?ie=UTF-8&q=%EB%B0%95%EB%B3%B4%EC%98%81+%EC%98%81%ED%99%94&sa=X&ved=2ahUKEwi9wvri67XjAhVjNKYKHeY_A54Q1QJ6BAgAEAM',\n",
       " 'https://www.google.com/search?ie=UTF-8&q=%EB%B0%95%EB%B3%B4%EC%98%81+%EC%98%81%ED%99%94',\n",
       " 'https://www.google.com/search?ie=UTF-8&q=%EB%B0%95%EB%B3%B4%EC%98%81+%EC%97%B4%EC%95%A0&sa=X&ved=2ahUKEwi9wvri67XjAhVjNKYKHeY_A54Q1QJ6BAgAEAQ',\n",
       " 'https://www.google.com/search?ie=UTF-8&q=%EB%B0%95%EB%B3%B4%EC%98%81+%EC%97%B4%EC%95%A0',\n",
       " 'https://www.google.com/search?ie=UTF-8&q=%EB%B0%95%EB%B3%B4%EC%98%81+%EC%98%81%ED%99%94+%EB%B0%8F+%EB%B0%A9%EC%86%A1&sa=X&ved=2ahUKEwi9wvri67XjAhVjNKYKHeY_A54Q1QJ6BAgAEAU',\n",
       " 'https://www.google.com/search?ie=UTF-8&q=%EB%B0%95%EB%B3%B4%EC%98%81+%EC%98%81%ED%99%94+%EB%B0%8F+%EB%B0%A9%EC%86%A1',\n",
       " 'https://www.google.com/search?ie=UTF-8&q=%EB%B0%95%EB%B3%B4%EC%98%81+%EC%86%8C%EC%86%8D%EC%82%AC&sa=X&ved=2ahUKEwi9wvri67XjAhVjNKYKHeY_A54Q1QJ6BAgAEAY',\n",
       " 'https://www.google.com/search?ie=UTF-8&q=%EB%B0%95%EB%B3%B4%EC%98%81+%EC%86%8C%EC%86%8D%EC%82%AC',\n",
       " 'https://www.google.com/search?ie=UTF-8&q=%EB%B0%95%EB%B3%B4%EC%98%81+%EC%96%B4%EB%B9%84%EC%8A%A4&sa=X&ved=2ahUKEwi9wvri67XjAhVjNKYKHeY_A54Q1QJ6BAgAEAc',\n",
       " 'https://www.google.com/search?ie=UTF-8&q=%EB%B0%95%EB%B3%B4%EC%98%81+%EC%96%B4%EB%B9%84%EC%8A%A4',\n",
       " 'https://www.google.com/search?ie=UTF-8&q=%EB%B0%95%EB%B3%B4%EC%98%81+%ED%82%A4&sa=X&ved=2ahUKEwi9wvri67XjAhVjNKYKHeY_A54Q1QJ6BAgAEAg',\n",
       " 'https://www.google.com/search?ie=UTF-8&q=%EB%B0%95%EB%B3%B4%EC%98%81+%ED%82%A4',\n",
       " 'https://www.google.com/search?ie=UTF-8&q=%EB%B0%95%EB%B3%B4%EC%98%81+%EB%B0%95%ED%98%95%EC%8B%9D&sa=X&ved=2ahUKEwi9wvri67XjAhVjNKYKHeY_A54Q1QJ6BAgAEAk',\n",
       " 'https://www.google.com/search?ie=UTF-8&q=%EB%B0%95%EB%B3%B4%EC%98%81+%EB%B0%95%ED%98%95%EC%8B%9D',\n",
       " 'https://www.google.com/search?ie=UTF-8&q=%EB%B0%95%EB%B3%B4%EC%98%81%EA%B0%80%EC%A1%B1&sa=X&ved=2ahUKEwi9wvri67XjAhVjNKYKHeY_A54Q1QJ6BAgAEAo',\n",
       " 'https://www.google.com/search?ie=UTF-8&q=%EB%B0%95%EB%B3%B4%EC%98%81%EA%B0%80%EC%A1%B1',\n",
       " 'https://www.google.com/search?q=%EB%B0%95%EB%B3%B4%EC%98%81&ie=UTF-8&ei=G-ArXf3IKuPomAXm_4zwCQ&start=10&sa=N',\n",
       " 'https://www.google.com/url?q=https://accounts.google.com/ServiceLogin%3Fcontinue%3Dhttps://www.google.com/search%253Fei%253DjdgrXYnLPISr8QW3_pewBA%2526q%253D%2525EB%2525B0%252595%2525EB%2525B3%2525B4%2525EC%252598%252581%2526oq%253D%2525EB%2525B0%252595%2525EB%2525B3%2525B4%2525EC%252598%252581%2526gs_l%253Dpsy-ab.3..0l10.1850843.1852624..1852692...3.0..1.116.1082.2j9......0....1..gws-wiz.....0..0i10j0i131j0i10i42._FL24nch5gE%26hl%3Dko&sa=U&ved=0ahUKEwi9wvri67XjAhVjNKYKHeY_A54Qxs8CCI4B&usg=AOvVaw1Tywvyl_1vPNULsYPJktAx',\n",
       " 'https://www.google.com/preferences?hl=ko&fg=1&sa=X&ved=0ahUKEwi9wvri67XjAhVjNKYKHeY_A54Q5fUCCI8B',\n",
       " 'https://www.google.com/intl/ko_kr/policies/privacy/?fg=1',\n",
       " 'https://www.google.com/intl/ko_kr/policies/terms/?fg=1']"
      ]
     },
     "execution_count": 31,
     "metadata": {},
     "output_type": "execute_result"
    }
   ],
   "source": [
    "dom = BeautifulSoup(html.text,\"lxml\")\n",
    "[requests.compat.urljoin(url,_[\"href\"]) for _ in dom.find_all(\"a\") if len(_[\"href\"]) > 3]"
   ]
  },
  {
   "cell_type": "code",
   "execution_count": 165,
   "metadata": {},
   "outputs": [],
   "source": [
    "def parseURL(seed):\n",
    "    html = download(\"get\", seed)\n",
    "    dom = BeautifulSoup(html.text,\"lxml\")\n",
    "    \n",
    "    return [requests.compat.urljoin(seed, _[\"href\"])]\n",
    "\n",
    "    \n",
    "    if len(dom.select(\"#mainFrame\")) < 1:\n",
    "        return []\n",
    "    \n",
    "#     seed = requests.compat.urljoin(seed,dom.select(\"#mainFrame\")[0][\"src\"])\n",
    "\n",
    "#     html = download(\"get\",seed)\n",
    "#     dom = BeautifulSoup(html.text,\"lxml\")\n",
    "    \n",
    "    return [(requests.compat.urljoin(seed[0],_[\"href\"]),seed[1]+1) for _ in dom.find_all(\"a\") if seed[1] < 2 and _.has_attr(\"href\") and len(_[\"href\"]) > 3 and checkBlog(requests.compat.urljoin(seed[0],_[\"href\"]))]\n",
    "# #으로 시작하는 것은 빼야하므로 len보다는 #으로 시작하는 것을 골라서 빼는 것이 좋다"
   ]
  },
  {
   "cell_type": "code",
   "execution_count": 27,
   "metadata": {},
   "outputs": [],
   "source": [
    "import time"
   ]
  },
  {
   "cell_type": "code",
   "execution_count": 101,
   "metadata": {},
   "outputs": [
    {
     "name": "stdout",
     "output_type": "stream",
     "text": [
      "Queue: 3, seen: 48\n",
      "Queue: 2, seen: 49\n",
      "Queue: 1, seen: 50\n",
      "Queue: 0, seen: 51\n"
     ]
    }
   ],
   "source": [
    "queue = list()\n",
    "# queue.append(\"https://blog.naver.com/imagetech1?Redirect=Log&logNo=221530358950\")\n",
    "# seen = list()\n",
    "queue.extend([(_[\"href\"],1) for _ in dom.select(\"#blogColl a.f_link_b\")])\n",
    "while queue:\n",
    "    baseURL = queue.pop(0)\n",
    "    seen.append(baseURL)\n",
    "    time.sleep(1)\n",
    "    linkList = parseURL(baseURL)\n",
    "    for link in linkList:\n",
    "        if link not in queue and link not in seen:\n",
    "            queue.append(link)\n",
    "    print(\"Queue: {0}, seen: {1}\".format(len(queue), len(seen)))"
   ]
  },
  {
   "cell_type": "code",
   "execution_count": 102,
   "metadata": {},
   "outputs": [
    {
     "data": {
      "text/plain": [
       "['https://blog.naver.com/imagetech1?Redirect=Log&logNo=221530358950',\n",
       " 'http://www.naver.com',\n",
       " 'https://blog.naver.com',\n",
       " 'https://blog.naver.com/prologue/PrologueList.nhn?blogId=imagetech1',\n",
       " 'https://blog.naver.com/imagetech1?Redirect=Log&logNo=221530358950#blog-menu',\n",
       " 'https://blog.naver.com/imagetech1?Redirect=Log&logNo=221530358950#post_1',\n",
       " 'https://blog.naver.com/MyBlog.nhn',\n",
       " 'https://nid.naver.com/nidlogin.login?mode=form&url=https://blog.naver.com/imagetech1',\n",
       " 'https://section.blog.naver.com',\n",
       " 'https://nid.naver.com/nidlogin.login?mode=form&url=https://blog.naver.com/imagetech1/221530358950',\n",
       " 'https://helpx.adobe.com/kr/flash-player/kb/installation-problems-flash-player-windows.html ',\n",
       " 'https://blog.naver.com/prologue/PrologueList.nhn?blogId=imagetech1&skinType=&skinId=&from=menu',\n",
       " 'https://blog.naver.com/PostList.nhn?blogId=imagetech1&skinType=&skinId=&from=menu',\n",
       " 'https://blog.naver.com/PostList.nhn?blogId=imagetech1&categoryNo=108&skinType=&skinId=&from=menu',\n",
       " 'https://blog.naver.com/PostList.nhn?blogId=imagetech1&categoryNo=109&skinType=&skinId=&from=menu',\n",
       " 'https://guestbook.blog.naver.com/guestbook/GuestBookList.nhn?blogId=imagetech1&skinType=&skinId=&from=menu',\n",
       " 'https://admin.blog.naver.com//config/quickposting',\n",
       " 'https://section.blog.naver.com/Notice.nhn?docId=10000000000020964978',\n",
       " 'https://blog.naver.com/PostView.nhn?blogId=imagetech1&logNo=221460476188&categoryNo=98&parentCategoryNo=114&viewDate=&currentPage=&postListTopCurrentPage=&isAfterWrite=true',\n",
       " 'https://blog.naver.com/PostList.nhn?blogId=imagetech1&categoryNo=113&from=postList&parentCategoryNo=113',\n",
       " 'https://blog.naver.com/imagetech1',\n",
       " 'http://imagetech21.kr/',\n",
       " 'https://blog.naver.com/PostList.nhn?blogId=imagetech1&categoryNo=113&from=postList&parentCategoryNo=0',\n",
       " 'https://rss.blog.naver.com/imagetech1.xml',\n",
       " 'https://rss.blog.naver.com/imagetech1.xml?rss=1.0',\n",
       " 'https://rss.blog.naver.com/imagetech1.xml?atom=0.3',\n",
       " 'http://security.naver.com/index.nhn',\n",
       " ('http://adam24eve.tistory.com/858', 1),\n",
       " ('http://cscs0717.tistory.com/27', 1),\n",
       " ('http://listup.tistory.com/248', 1),\n",
       " ('http://34344541.tistory.com/43', 1),\n",
       " ('http://adam24eve.tistory.com/858', 1),\n",
       " ('http://cscs0717.tistory.com/27', 1),\n",
       " ('http://listup.tistory.com/248', 1),\n",
       " ('http://34344541.tistory.com/43', 1),\n",
       " ('http://ghltodrodls.tistory.com/121', 1),\n",
       " ('http://a1b2c4d3.tistory.com/1682', 1),\n",
       " ('http://blog.naver.com/PostView.nhn?blogId=accsd06&logNo=221578902682', 1),\n",
       " ('http://blog.naver.com/PostView.nhn?blogId=rmadud0407&logNo=221579184618',\n",
       "  1),\n",
       " ('http://ghltodrodls.tistory.com/121', 1),\n",
       " ('http://a1b2c4d3.tistory.com/1682', 1),\n",
       " ('http://blog.naver.com/PostView.nhn?blogId=accsd06&logNo=221578902682', 1),\n",
       " ('http://blog.naver.com/PostView.nhn?blogId=rmadud0407&logNo=221579184618',\n",
       "  1),\n",
       " ('http://ghltodrodls.tistory.com/121', 1),\n",
       " ('http://a1b2c4d3.tistory.com/1682', 1),\n",
       " ('http://blog.naver.com/PostView.nhn?blogId=accsd06&logNo=221578902682', 1),\n",
       " ('http://blog.naver.com/PostView.nhn?blogId=rmadud0407&logNo=221579184618',\n",
       "  1),\n",
       " ('http://ghltodrodls.tistory.com/121', 1),\n",
       " ('http://a1b2c4d3.tistory.com/1682', 1),\n",
       " ('http://blog.naver.com/PostView.nhn?blogId=accsd06&logNo=221578902682', 1),\n",
       " ('http://blog.naver.com/PostView.nhn?blogId=rmadud0407&logNo=221579184618',\n",
       "  1)]"
      ]
     },
     "execution_count": 102,
     "metadata": {},
     "output_type": "execute_result"
    }
   ],
   "source": [
    "seen"
   ]
  },
  {
   "cell_type": "code",
   "execution_count": 100,
   "metadata": {},
   "outputs": [],
   "source": [
    "url = \"https://search.daum.net/search?nil_suggest=btn&w=tot&DA=SBC&q=%EC%9C%A4%EC%95%84\"\n",
    "# params = {\"q\":\"박보영\"}\n",
    "headers = {\"user-agent\": \"Mozilla/5.0 (Windows NT 10.0; Win64; x64) AppleWebKit/537.36 (KHTML, like Gecko) Chrome/75.0.3770.100 Safari/537.36\"}\n",
    "\n",
    "html = download(\"get\",url, headers=headers)\n",
    "dom = BeautifulSoup(html.text,\"lxml\")"
   ]
  },
  {
   "cell_type": "code",
   "execution_count": 96,
   "metadata": {},
   "outputs": [
    {
     "data": {
      "text/plain": [
       "'http://ghltodrodls.tistory.com/121'"
      ]
     },
     "execution_count": 96,
     "metadata": {},
     "output_type": "execute_result"
    }
   ],
   "source": [
    "dom.select(\"#blogColl a.f_link_b\")[0][\"href\"]"
   ]
  },
  {
   "cell_type": "code",
   "execution_count": 71,
   "metadata": {},
   "outputs": [
    {
     "data": {
      "text/plain": [
       "[]"
      ]
     },
     "execution_count": 71,
     "metadata": {},
     "output_type": "execute_result"
    }
   ],
   "source": [
    "[_[\"href\"] for _ in dom.select(\"a.sh_blog_title._sp_each_url._sp_each_title\") if checkBlog(_[\"href\"])]"
   ]
  },
  {
   "cell_type": "code",
   "execution_count": 48,
   "metadata": {},
   "outputs": [],
   "source": [
    "queue = list()\n",
    "queue.extend([_.find_parent()[\"href\"] for _ in dom.select(\".LC20lb\")])\n",
    "seen = list()\n",
    "while queue:\n",
    "    baseURL = queue.pop(0)\n",
    "    seen.append(baseURL)\n",
    "    time.sleep(1)\n",
    "    linkList = parseURL(baseURL)\n",
    "    for link in linkList:\n",
    "        if link not in queue and link not in seen:\n",
    "            queue.append(link)\n",
    "    print(\"Queue: {0}, seen: {1}\".format(len(queue), len(seen)))"
   ]
  },
  {
   "cell_type": "code",
   "execution_count": 63,
   "metadata": {},
   "outputs": [
    {
     "data": {
      "text/plain": [
       "ParseResult(scheme='https', netloc='blog.naver.com', path='/dlqlwm14', params='', query='Redirect=Log&logNo=221529807195', fragment='')"
      ]
     },
     "execution_count": 63,
     "metadata": {},
     "output_type": "execute_result"
    }
   ],
   "source": [
    "requests.compat.urlparse(\"https://blog.naver.com/dlqlwm14?Redirect=Log&logNo=221529807195\")"
   ]
  },
  {
   "cell_type": "code",
   "execution_count": 106,
   "metadata": {},
   "outputs": [],
   "source": [
    "def checkBlog(url):\n",
    "    return requests.compat.urlparse(url)[1].endswith(\"tistory.com\")"
   ]
  },
  {
   "cell_type": "code",
   "execution_count": 109,
   "metadata": {},
   "outputs": [
    {
     "data": {
      "text/plain": [
       "False"
      ]
     },
     "execution_count": 109,
     "metadata": {},
     "output_type": "execute_result"
    }
   ],
   "source": [
    "checkBlog(\"adam24eve.tistory.com\")"
   ]
  },
  {
   "cell_type": "code",
   "execution_count": 110,
   "metadata": {},
   "outputs": [
    {
     "ename": "NameError",
     "evalue": "name 'date' is not defined",
     "output_type": "error",
     "traceback": [
      "\u001b[1;31m---------------------------------------------------------------------------\u001b[0m",
      "\u001b[1;31mNameError\u001b[0m                                 Traceback (most recent call last)",
      "\u001b[1;32m<ipython-input-110-dc84fa2661ba>\u001b[0m in \u001b[0;36m<module>\u001b[1;34m\u001b[0m\n\u001b[1;32m----> 1\u001b[1;33m \u001b[0mtable1\u001b[0m \u001b[1;33m=\u001b[0m \u001b[0mid\u001b[0m\u001b[1;33m,\u001b[0m \u001b[0murl\u001b[0m\u001b[1;33m,\u001b[0m \u001b[0mseen\u001b[0m\u001b[1;33m,\u001b[0m \u001b[0mdate\u001b[0m\u001b[1;33m\u001b[0m\u001b[1;33m\u001b[0m\u001b[0m\n\u001b[0m\u001b[0;32m      2\u001b[0m \u001b[0mtable2\u001b[0m \u001b[1;33m=\u001b[0m \u001b[0mid\u001b[0m\u001b[1;33m,\u001b[0m \u001b[0mnetloc\u001b[0m\u001b[1;33m,\u001b[0m \u001b[0mdate\u001b[0m\u001b[1;33m\u001b[0m\u001b[1;33m\u001b[0m\u001b[0m\n\u001b[0;32m      3\u001b[0m \u001b[0murl\u001b[0m \u001b[1;33m=\u001b[0m \u001b[0mnetloc\u001b[0m \u001b[1;33m+\u001b[0m \u001b[0mpath\u001b[0m \u001b[1;33m+\u001b[0m \u001b[0mparam\u001b[0m\u001b[1;33m\u001b[0m\u001b[1;33m\u001b[0m\u001b[0m\n",
      "\u001b[1;31mNameError\u001b[0m: name 'date' is not defined"
     ]
    }
   ],
   "source": [
    "table1 = id, url, seen, date\n",
    "table2 = id, netloc, date\n",
    "url = netloc + path + param"
   ]
  },
  {
   "cell_type": "code",
   "execution_count": 266,
   "metadata": {},
   "outputs": [],
   "source": [
    "import sqlite3\n",
    "con = sqlite3.connect(\"inbound1.db\")\n",
    "cur = con.cursor()"
   ]
  },
  {
   "cell_type": "code",
   "execution_count": 267,
   "metadata": {},
   "outputs": [],
   "source": [
    "cur.executescript(\"\"\"\n",
    "    DROP TABLE IF EXISTS table1;\n",
    "    \n",
    "    CREATE TABLE table1 (\n",
    "    id INTEGER PRIMARY KEY AUTOINCREMENT NOT NULL,\n",
    "    table2_id INTEGER NOT NULL,\n",
    "    path TEXT NOT NULL,\n",
    "    param TEXT,\n",
    "    depth INTEGER NOT NULL,\n",
    "    inbound INTEGER NOT NULL,\n",
    "    seen BOOLEAN DEFAULT FALSE NOT NULL,\n",
    "    date TIMESTAMP DEFAULT CURRENT_TIMESTAMP NOT NULL\n",
    "    );\n",
    "    DROP TABLE IF EXISTS table2;\n",
    "\n",
    "    CREATE TABLE table2 (\n",
    "    id INTEGER PRIMARY KEY AUTOINCREMENT NOT NULL,\n",
    "    netloc TEXT NOT NULL,\n",
    "    date TIMESTAMP DEFAULT CURRENT_TIMESTAMP NOT NULL\n",
    "    );\n",
    "\"\"\")\n",
    "# DROP TABLE IF EXISTS table1;\n",
    "con.commit()"
   ]
  },
  {
   "cell_type": "code",
   "execution_count": 268,
   "metadata": {},
   "outputs": [
    {
     "data": {
      "text/plain": [
       "['https://namu.wiki/w/%EB%B0%95%EB%B3%B4%EC%98%81',\n",
       " 'https://ko.wikipedia.org/wiki/%EB%B0%95%EB%B3%B4%EC%98%81',\n",
       " 'https://ko.wikipedia.org/wiki/%EB%B0%95%EB%B3%B4%EC%98%81%EC%9D%98_%EC%9E%91%ED%92%88_%EB%AA%A9%EB%A1%9D',\n",
       " 'https://news.joins.com/article/22895953',\n",
       " 'https://movie.daum.net/person/main?personId=105244',\n",
       " 'http://m.cafe.daum.net/parkboyoungfd',\n",
       " 'https://www.msn.com/ko-kr/entertainment/tv/hd%EC%8A%A4%ED%86%A0%EB%A6%AC-%EC%9E%91%EC%9D%80-%EA%B1%B0%EC%9D%B8-%EB%B0%95%EB%B3%B4%EC%98%81%E2%80%A6%EA%B7%B8%EC%9D%98-%EC%97%B0%EA%B8%B0%EC%97%90-%EB%8C%80%ED%95%9C-%ED%9D%94%EC%A0%81%EB%93%A4/ar-BBUvL0V',\n",
       " 'https://twitter.com/hashtag/%EB%B0%95%EB%B3%B4%EC%98%81',\n",
       " 'http://www.epochtimes.co.kr/news/articleView.html?idxno=415565']"
      ]
     },
     "execution_count": 268,
     "metadata": {},
     "output_type": "execute_result"
    }
   ],
   "source": [
    "[_.find_parent()[\"href\"] for _ in dom.select(\".LC20lb\")]"
   ]
  },
  {
   "cell_type": "code",
   "execution_count": 269,
   "metadata": {},
   "outputs": [
    {
     "data": {
      "text/plain": [
       "ParseResult(scheme='https', netloc='www.google.com', path='/search', params='', query='q=%EB%B0%95%EB%B3%B4%EC%98%81', fragment='')"
      ]
     },
     "execution_count": 269,
     "metadata": {},
     "output_type": "execute_result"
    }
   ],
   "source": [
    "requests.compat.urlparse(html.request.url)"
   ]
  },
  {
   "cell_type": "code",
   "execution_count": 270,
   "metadata": {},
   "outputs": [],
   "source": [
    "# Seed URLs -> DB Insert\n",
    "# 큐 생성~~~~\n",
    "\n",
    "headers = {\"user-agent\":\"Mozilla/5.0 (Macintosh; Intel Mac OS X 10_14_5) AppleWebKit/537.36 (KHTML, like Gecko) Chrome/75.0.3770.100 Safari/537.36\"}\n",
    "url = \"https://www.google.com/search\"\n",
    "html = download(\"get\", url, headers=headers, params={\"q\":\"박보영\"})\n",
    "dom = BeautifulSoup(html.text, \"lxml\")\n",
    "\n",
    "# url 꺼내서 파싱하기\n",
    "for href in [_.find_parent()[\"href\"] for _ in dom.select(\".LC20lb\")]:\n",
    "    _urlparse = requests.compat.urlparse(href)\n",
    "    # 베이스url\n",
    "    netloc = \"://\".join(_urlparse[:2]) \n",
    "    # 있니?\n",
    "    cur.execute(\"SELECT id FROM table2 WHERE netloc=? LIMIT 0,1\", [netloc])\n",
    "    # 있든없든 결과. 있으면 튜플 하나 없으면 none\n",
    "    netlocID = cur.fetchone()\n",
    "    \n",
    "    # 비어있으면 아래 구문 출력\n",
    "    if not netlocID:\n",
    "        # 비어있으니까 table2에 넣고\n",
    "        cur.execute(\"INSERT INTO table2(netloc) VALUES(?)\", [netloc])\n",
    "        # 반영하자\n",
    "        con.commit()\n",
    "        # 넣었으니까 아이디 값 가져올 수 있음\n",
    "        cur.execute(\"SELECT id FROM table2 WHERE netloc=? LIMIT 0,1\", [netloc])\n",
    "        # 이거 튜플이니까\n",
    "        netlocID = cur.fetchone()\n",
    "      \n",
    "    # 0이 id, \n",
    "    cur.execute(\"INSERT INTO table1(table2_id, path, param, depth, inbound) VALUES (?, ?, ?, ?, ?)\", [netlocID[0], _urlparse[2], _urlparse[4], 1, 0])\n",
    "    con.commit()"
   ]
  },
  {
   "cell_type": "code",
   "execution_count": 271,
   "metadata": {},
   "outputs": [
    {
     "ename": "AttributeError",
     "evalue": "module 'requests' has no attribute 'exceptionsp'",
     "output_type": "error",
     "traceback": [
      "\u001b[1;31m---------------------------------------------------------------------------\u001b[0m",
      "\u001b[1;31mTypeError\u001b[0m                                 Traceback (most recent call last)",
      "\u001b[1;32mC:\\ProgramData\\Anaconda3\\lib\\site-packages\\urllib3\\connectionpool.py\u001b[0m in \u001b[0;36m_make_request\u001b[1;34m(self, conn, method, url, timeout, chunked, **httplib_request_kw)\u001b[0m\n\u001b[0;32m    376\u001b[0m             \u001b[1;32mtry\u001b[0m\u001b[1;33m:\u001b[0m  \u001b[1;31m# Python 2.7, use buffering of HTTP responses\u001b[0m\u001b[1;33m\u001b[0m\u001b[1;33m\u001b[0m\u001b[0m\n\u001b[1;32m--> 377\u001b[1;33m                 \u001b[0mhttplib_response\u001b[0m \u001b[1;33m=\u001b[0m \u001b[0mconn\u001b[0m\u001b[1;33m.\u001b[0m\u001b[0mgetresponse\u001b[0m\u001b[1;33m(\u001b[0m\u001b[0mbuffering\u001b[0m\u001b[1;33m=\u001b[0m\u001b[1;32mTrue\u001b[0m\u001b[1;33m)\u001b[0m\u001b[1;33m\u001b[0m\u001b[1;33m\u001b[0m\u001b[0m\n\u001b[0m\u001b[0;32m    378\u001b[0m             \u001b[1;32mexcept\u001b[0m \u001b[0mTypeError\u001b[0m\u001b[1;33m:\u001b[0m  \u001b[1;31m# Python 3\u001b[0m\u001b[1;33m\u001b[0m\u001b[1;33m\u001b[0m\u001b[0m\n",
      "\u001b[1;31mTypeError\u001b[0m: getresponse() got an unexpected keyword argument 'buffering'",
      "\nDuring handling of the above exception, another exception occurred:\n",
      "\u001b[1;31mKeyboardInterrupt\u001b[0m                         Traceback (most recent call last)",
      "\u001b[1;32m<ipython-input-119-d45c1fdc692b>\u001b[0m in \u001b[0;36mdownload\u001b[1;34m(method, url, params, data, headers)\u001b[0m\n\u001b[0;32m      4\u001b[0m     \u001b[1;32mtry\u001b[0m\u001b[1;33m:\u001b[0m\u001b[1;33m\u001b[0m\u001b[1;33m\u001b[0m\u001b[0m\n\u001b[1;32m----> 5\u001b[1;33m         \u001b[0mresp\u001b[0m \u001b[1;33m=\u001b[0m \u001b[0mrequests\u001b[0m\u001b[1;33m.\u001b[0m\u001b[0mrequest\u001b[0m\u001b[1;33m(\u001b[0m\u001b[0mmethod\u001b[0m\u001b[1;33m,\u001b[0m \u001b[0murl\u001b[0m\u001b[1;33m,\u001b[0m \u001b[0mparams\u001b[0m\u001b[1;33m=\u001b[0m\u001b[0mparams\u001b[0m\u001b[1;33m,\u001b[0m\u001b[0mdata\u001b[0m\u001b[1;33m=\u001b[0m\u001b[0mdata\u001b[0m\u001b[1;33m,\u001b[0m\u001b[0mheaders\u001b[0m\u001b[1;33m=\u001b[0m\u001b[0mheaders\u001b[0m\u001b[1;33m)\u001b[0m\u001b[1;33m\u001b[0m\u001b[1;33m\u001b[0m\u001b[0m\n\u001b[0m\u001b[0;32m      6\u001b[0m     \u001b[1;32mexcept\u001b[0m \u001b[0mrequests\u001b[0m\u001b[1;33m.\u001b[0m\u001b[0mexceptionsp\u001b[0m\u001b[1;33m.\u001b[0m\u001b[0mHTTPerror\u001b[0m \u001b[1;32mas\u001b[0m \u001b[0me\u001b[0m\u001b[1;33m:\u001b[0m\u001b[1;33m\u001b[0m\u001b[1;33m\u001b[0m\u001b[0m\n",
      "\u001b[1;32mC:\\ProgramData\\Anaconda3\\lib\\site-packages\\requests\\api.py\u001b[0m in \u001b[0;36mrequest\u001b[1;34m(method, url, **kwargs)\u001b[0m\n\u001b[0;32m     59\u001b[0m     \u001b[1;32mwith\u001b[0m \u001b[0msessions\u001b[0m\u001b[1;33m.\u001b[0m\u001b[0mSession\u001b[0m\u001b[1;33m(\u001b[0m\u001b[1;33m)\u001b[0m \u001b[1;32mas\u001b[0m \u001b[0msession\u001b[0m\u001b[1;33m:\u001b[0m\u001b[1;33m\u001b[0m\u001b[1;33m\u001b[0m\u001b[0m\n\u001b[1;32m---> 60\u001b[1;33m         \u001b[1;32mreturn\u001b[0m \u001b[0msession\u001b[0m\u001b[1;33m.\u001b[0m\u001b[0mrequest\u001b[0m\u001b[1;33m(\u001b[0m\u001b[0mmethod\u001b[0m\u001b[1;33m=\u001b[0m\u001b[0mmethod\u001b[0m\u001b[1;33m,\u001b[0m \u001b[0murl\u001b[0m\u001b[1;33m=\u001b[0m\u001b[0murl\u001b[0m\u001b[1;33m,\u001b[0m \u001b[1;33m**\u001b[0m\u001b[0mkwargs\u001b[0m\u001b[1;33m)\u001b[0m\u001b[1;33m\u001b[0m\u001b[1;33m\u001b[0m\u001b[0m\n\u001b[0m\u001b[0;32m     61\u001b[0m \u001b[1;33m\u001b[0m\u001b[0m\n",
      "\u001b[1;32mC:\\ProgramData\\Anaconda3\\lib\\site-packages\\requests\\sessions.py\u001b[0m in \u001b[0;36mrequest\u001b[1;34m(self, method, url, params, data, headers, cookies, files, auth, timeout, allow_redirects, proxies, hooks, stream, verify, cert, json)\u001b[0m\n\u001b[0;32m    532\u001b[0m         \u001b[0msend_kwargs\u001b[0m\u001b[1;33m.\u001b[0m\u001b[0mupdate\u001b[0m\u001b[1;33m(\u001b[0m\u001b[0msettings\u001b[0m\u001b[1;33m)\u001b[0m\u001b[1;33m\u001b[0m\u001b[1;33m\u001b[0m\u001b[0m\n\u001b[1;32m--> 533\u001b[1;33m         \u001b[0mresp\u001b[0m \u001b[1;33m=\u001b[0m \u001b[0mself\u001b[0m\u001b[1;33m.\u001b[0m\u001b[0msend\u001b[0m\u001b[1;33m(\u001b[0m\u001b[0mprep\u001b[0m\u001b[1;33m,\u001b[0m \u001b[1;33m**\u001b[0m\u001b[0msend_kwargs\u001b[0m\u001b[1;33m)\u001b[0m\u001b[1;33m\u001b[0m\u001b[1;33m\u001b[0m\u001b[0m\n\u001b[0m\u001b[0;32m    534\u001b[0m \u001b[1;33m\u001b[0m\u001b[0m\n",
      "\u001b[1;32mC:\\ProgramData\\Anaconda3\\lib\\site-packages\\requests\\sessions.py\u001b[0m in \u001b[0;36msend\u001b[1;34m(self, request, **kwargs)\u001b[0m\n\u001b[0;32m    645\u001b[0m         \u001b[1;31m# Send the request\u001b[0m\u001b[1;33m\u001b[0m\u001b[1;33m\u001b[0m\u001b[1;33m\u001b[0m\u001b[0m\n\u001b[1;32m--> 646\u001b[1;33m         \u001b[0mr\u001b[0m \u001b[1;33m=\u001b[0m \u001b[0madapter\u001b[0m\u001b[1;33m.\u001b[0m\u001b[0msend\u001b[0m\u001b[1;33m(\u001b[0m\u001b[0mrequest\u001b[0m\u001b[1;33m,\u001b[0m \u001b[1;33m**\u001b[0m\u001b[0mkwargs\u001b[0m\u001b[1;33m)\u001b[0m\u001b[1;33m\u001b[0m\u001b[1;33m\u001b[0m\u001b[0m\n\u001b[0m\u001b[0;32m    647\u001b[0m \u001b[1;33m\u001b[0m\u001b[0m\n",
      "\u001b[1;32mC:\\ProgramData\\Anaconda3\\lib\\site-packages\\requests\\adapters.py\u001b[0m in \u001b[0;36msend\u001b[1;34m(self, request, stream, timeout, verify, cert, proxies)\u001b[0m\n\u001b[0;32m    448\u001b[0m                     \u001b[0mretries\u001b[0m\u001b[1;33m=\u001b[0m\u001b[0mself\u001b[0m\u001b[1;33m.\u001b[0m\u001b[0mmax_retries\u001b[0m\u001b[1;33m,\u001b[0m\u001b[1;33m\u001b[0m\u001b[1;33m\u001b[0m\u001b[0m\n\u001b[1;32m--> 449\u001b[1;33m                     \u001b[0mtimeout\u001b[0m\u001b[1;33m=\u001b[0m\u001b[0mtimeout\u001b[0m\u001b[1;33m\u001b[0m\u001b[1;33m\u001b[0m\u001b[0m\n\u001b[0m\u001b[0;32m    450\u001b[0m                 )\n",
      "\u001b[1;32mC:\\ProgramData\\Anaconda3\\lib\\site-packages\\urllib3\\connectionpool.py\u001b[0m in \u001b[0;36murlopen\u001b[1;34m(self, method, url, body, headers, retries, redirect, assert_same_host, timeout, pool_timeout, release_conn, chunked, body_pos, **response_kw)\u001b[0m\n\u001b[0;32m    599\u001b[0m                                                   \u001b[0mbody\u001b[0m\u001b[1;33m=\u001b[0m\u001b[0mbody\u001b[0m\u001b[1;33m,\u001b[0m \u001b[0mheaders\u001b[0m\u001b[1;33m=\u001b[0m\u001b[0mheaders\u001b[0m\u001b[1;33m,\u001b[0m\u001b[1;33m\u001b[0m\u001b[1;33m\u001b[0m\u001b[0m\n\u001b[1;32m--> 600\u001b[1;33m                                                   chunked=chunked)\n\u001b[0m\u001b[0;32m    601\u001b[0m \u001b[1;33m\u001b[0m\u001b[0m\n",
      "\u001b[1;32mC:\\ProgramData\\Anaconda3\\lib\\site-packages\\urllib3\\connectionpool.py\u001b[0m in \u001b[0;36m_make_request\u001b[1;34m(self, conn, method, url, timeout, chunked, **httplib_request_kw)\u001b[0m\n\u001b[0;32m    379\u001b[0m                 \u001b[1;32mtry\u001b[0m\u001b[1;33m:\u001b[0m\u001b[1;33m\u001b[0m\u001b[1;33m\u001b[0m\u001b[0m\n\u001b[1;32m--> 380\u001b[1;33m                     \u001b[0mhttplib_response\u001b[0m \u001b[1;33m=\u001b[0m \u001b[0mconn\u001b[0m\u001b[1;33m.\u001b[0m\u001b[0mgetresponse\u001b[0m\u001b[1;33m(\u001b[0m\u001b[1;33m)\u001b[0m\u001b[1;33m\u001b[0m\u001b[1;33m\u001b[0m\u001b[0m\n\u001b[0m\u001b[0;32m    381\u001b[0m                 \u001b[1;32mexcept\u001b[0m \u001b[0mException\u001b[0m \u001b[1;32mas\u001b[0m \u001b[0me\u001b[0m\u001b[1;33m:\u001b[0m\u001b[1;33m\u001b[0m\u001b[1;33m\u001b[0m\u001b[0m\n",
      "\u001b[1;32mC:\\ProgramData\\Anaconda3\\lib\\http\\client.py\u001b[0m in \u001b[0;36mgetresponse\u001b[1;34m(self)\u001b[0m\n\u001b[0;32m   1320\u001b[0m             \u001b[1;32mtry\u001b[0m\u001b[1;33m:\u001b[0m\u001b[1;33m\u001b[0m\u001b[1;33m\u001b[0m\u001b[0m\n\u001b[1;32m-> 1321\u001b[1;33m                 \u001b[0mresponse\u001b[0m\u001b[1;33m.\u001b[0m\u001b[0mbegin\u001b[0m\u001b[1;33m(\u001b[0m\u001b[1;33m)\u001b[0m\u001b[1;33m\u001b[0m\u001b[1;33m\u001b[0m\u001b[0m\n\u001b[0m\u001b[0;32m   1322\u001b[0m             \u001b[1;32mexcept\u001b[0m \u001b[0mConnectionError\u001b[0m\u001b[1;33m:\u001b[0m\u001b[1;33m\u001b[0m\u001b[1;33m\u001b[0m\u001b[0m\n",
      "\u001b[1;32mC:\\ProgramData\\Anaconda3\\lib\\http\\client.py\u001b[0m in \u001b[0;36mbegin\u001b[1;34m(self)\u001b[0m\n\u001b[0;32m    295\u001b[0m         \u001b[1;32mwhile\u001b[0m \u001b[1;32mTrue\u001b[0m\u001b[1;33m:\u001b[0m\u001b[1;33m\u001b[0m\u001b[1;33m\u001b[0m\u001b[0m\n\u001b[1;32m--> 296\u001b[1;33m             \u001b[0mversion\u001b[0m\u001b[1;33m,\u001b[0m \u001b[0mstatus\u001b[0m\u001b[1;33m,\u001b[0m \u001b[0mreason\u001b[0m \u001b[1;33m=\u001b[0m \u001b[0mself\u001b[0m\u001b[1;33m.\u001b[0m\u001b[0m_read_status\u001b[0m\u001b[1;33m(\u001b[0m\u001b[1;33m)\u001b[0m\u001b[1;33m\u001b[0m\u001b[1;33m\u001b[0m\u001b[0m\n\u001b[0m\u001b[0;32m    297\u001b[0m             \u001b[1;32mif\u001b[0m \u001b[0mstatus\u001b[0m \u001b[1;33m!=\u001b[0m \u001b[0mCONTINUE\u001b[0m\u001b[1;33m:\u001b[0m\u001b[1;33m\u001b[0m\u001b[1;33m\u001b[0m\u001b[0m\n",
      "\u001b[1;32mC:\\ProgramData\\Anaconda3\\lib\\http\\client.py\u001b[0m in \u001b[0;36m_read_status\u001b[1;34m(self)\u001b[0m\n\u001b[0;32m    256\u001b[0m     \u001b[1;32mdef\u001b[0m \u001b[0m_read_status\u001b[0m\u001b[1;33m(\u001b[0m\u001b[0mself\u001b[0m\u001b[1;33m)\u001b[0m\u001b[1;33m:\u001b[0m\u001b[1;33m\u001b[0m\u001b[1;33m\u001b[0m\u001b[0m\n\u001b[1;32m--> 257\u001b[1;33m         \u001b[0mline\u001b[0m \u001b[1;33m=\u001b[0m \u001b[0mstr\u001b[0m\u001b[1;33m(\u001b[0m\u001b[0mself\u001b[0m\u001b[1;33m.\u001b[0m\u001b[0mfp\u001b[0m\u001b[1;33m.\u001b[0m\u001b[0mreadline\u001b[0m\u001b[1;33m(\u001b[0m\u001b[0m_MAXLINE\u001b[0m \u001b[1;33m+\u001b[0m \u001b[1;36m1\u001b[0m\u001b[1;33m)\u001b[0m\u001b[1;33m,\u001b[0m \u001b[1;34m\"iso-8859-1\"\u001b[0m\u001b[1;33m)\u001b[0m\u001b[1;33m\u001b[0m\u001b[1;33m\u001b[0m\u001b[0m\n\u001b[0m\u001b[0;32m    258\u001b[0m         \u001b[1;32mif\u001b[0m \u001b[0mlen\u001b[0m\u001b[1;33m(\u001b[0m\u001b[0mline\u001b[0m\u001b[1;33m)\u001b[0m \u001b[1;33m>\u001b[0m \u001b[0m_MAXLINE\u001b[0m\u001b[1;33m:\u001b[0m\u001b[1;33m\u001b[0m\u001b[1;33m\u001b[0m\u001b[0m\n",
      "\u001b[1;32mC:\\ProgramData\\Anaconda3\\lib\\socket.py\u001b[0m in \u001b[0;36mreadinto\u001b[1;34m(self, b)\u001b[0m\n\u001b[0;32m    588\u001b[0m             \u001b[1;32mtry\u001b[0m\u001b[1;33m:\u001b[0m\u001b[1;33m\u001b[0m\u001b[1;33m\u001b[0m\u001b[0m\n\u001b[1;32m--> 589\u001b[1;33m                 \u001b[1;32mreturn\u001b[0m \u001b[0mself\u001b[0m\u001b[1;33m.\u001b[0m\u001b[0m_sock\u001b[0m\u001b[1;33m.\u001b[0m\u001b[0mrecv_into\u001b[0m\u001b[1;33m(\u001b[0m\u001b[0mb\u001b[0m\u001b[1;33m)\u001b[0m\u001b[1;33m\u001b[0m\u001b[1;33m\u001b[0m\u001b[0m\n\u001b[0m\u001b[0;32m    590\u001b[0m             \u001b[1;32mexcept\u001b[0m \u001b[0mtimeout\u001b[0m\u001b[1;33m:\u001b[0m\u001b[1;33m\u001b[0m\u001b[1;33m\u001b[0m\u001b[0m\n",
      "\u001b[1;32mC:\\ProgramData\\Anaconda3\\lib\\site-packages\\urllib3\\contrib\\pyopenssl.py\u001b[0m in \u001b[0;36mrecv_into\u001b[1;34m(self, *args, **kwargs)\u001b[0m\n\u001b[0;32m    293\u001b[0m         \u001b[1;32mtry\u001b[0m\u001b[1;33m:\u001b[0m\u001b[1;33m\u001b[0m\u001b[1;33m\u001b[0m\u001b[0m\n\u001b[1;32m--> 294\u001b[1;33m             \u001b[1;32mreturn\u001b[0m \u001b[0mself\u001b[0m\u001b[1;33m.\u001b[0m\u001b[0mconnection\u001b[0m\u001b[1;33m.\u001b[0m\u001b[0mrecv_into\u001b[0m\u001b[1;33m(\u001b[0m\u001b[1;33m*\u001b[0m\u001b[0margs\u001b[0m\u001b[1;33m,\u001b[0m \u001b[1;33m**\u001b[0m\u001b[0mkwargs\u001b[0m\u001b[1;33m)\u001b[0m\u001b[1;33m\u001b[0m\u001b[1;33m\u001b[0m\u001b[0m\n\u001b[0m\u001b[0;32m    295\u001b[0m         \u001b[1;32mexcept\u001b[0m \u001b[0mOpenSSL\u001b[0m\u001b[1;33m.\u001b[0m\u001b[0mSSL\u001b[0m\u001b[1;33m.\u001b[0m\u001b[0mSysCallError\u001b[0m \u001b[1;32mas\u001b[0m \u001b[0me\u001b[0m\u001b[1;33m:\u001b[0m\u001b[1;33m\u001b[0m\u001b[1;33m\u001b[0m\u001b[0m\n",
      "\u001b[1;32mC:\\ProgramData\\Anaconda3\\lib\\site-packages\\OpenSSL\\SSL.py\u001b[0m in \u001b[0;36mrecv_into\u001b[1;34m(self, buffer, nbytes, flags)\u001b[0m\n\u001b[0;32m   1820\u001b[0m         \u001b[1;32melse\u001b[0m\u001b[1;33m:\u001b[0m\u001b[1;33m\u001b[0m\u001b[1;33m\u001b[0m\u001b[0m\n\u001b[1;32m-> 1821\u001b[1;33m             \u001b[0mresult\u001b[0m \u001b[1;33m=\u001b[0m \u001b[0m_lib\u001b[0m\u001b[1;33m.\u001b[0m\u001b[0mSSL_read\u001b[0m\u001b[1;33m(\u001b[0m\u001b[0mself\u001b[0m\u001b[1;33m.\u001b[0m\u001b[0m_ssl\u001b[0m\u001b[1;33m,\u001b[0m \u001b[0mbuf\u001b[0m\u001b[1;33m,\u001b[0m \u001b[0mnbytes\u001b[0m\u001b[1;33m)\u001b[0m\u001b[1;33m\u001b[0m\u001b[1;33m\u001b[0m\u001b[0m\n\u001b[0m\u001b[0;32m   1822\u001b[0m         \u001b[0mself\u001b[0m\u001b[1;33m.\u001b[0m\u001b[0m_raise_ssl_error\u001b[0m\u001b[1;33m(\u001b[0m\u001b[0mself\u001b[0m\u001b[1;33m.\u001b[0m\u001b[0m_ssl\u001b[0m\u001b[1;33m,\u001b[0m \u001b[0mresult\u001b[0m\u001b[1;33m)\u001b[0m\u001b[1;33m\u001b[0m\u001b[1;33m\u001b[0m\u001b[0m\n",
      "\u001b[1;31mKeyboardInterrupt\u001b[0m: ",
      "\nDuring handling of the above exception, another exception occurred:\n",
      "\u001b[1;31mAttributeError\u001b[0m                            Traceback (most recent call last)",
      "\u001b[1;32m<ipython-input-271-0ed71d821036>\u001b[0m in \u001b[0;36m<module>\u001b[1;34m\u001b[0m\n\u001b[0;32m     26\u001b[0m \u001b[1;33m\u001b[0m\u001b[0m\n\u001b[0;32m     27\u001b[0m     \u001b[0mbaseURL\u001b[0m \u001b[1;33m=\u001b[0m \u001b[1;34m\"{0}{1}?{2}\"\u001b[0m\u001b[1;33m.\u001b[0m\u001b[0mformat\u001b[0m\u001b[1;33m(\u001b[0m\u001b[0mseed\u001b[0m\u001b[1;33m[\u001b[0m\u001b[1;36m1\u001b[0m\u001b[1;33m]\u001b[0m\u001b[1;33m,\u001b[0m \u001b[0mseed\u001b[0m\u001b[1;33m[\u001b[0m\u001b[1;36m2\u001b[0m\u001b[1;33m]\u001b[0m\u001b[1;33m,\u001b[0m \u001b[0mseed\u001b[0m\u001b[1;33m[\u001b[0m\u001b[1;36m3\u001b[0m\u001b[1;33m]\u001b[0m\u001b[1;33m)\u001b[0m\u001b[1;33m\u001b[0m\u001b[1;33m\u001b[0m\u001b[0m\n\u001b[1;32m---> 28\u001b[1;33m     \u001b[1;32mfor\u001b[0m \u001b[0mhref\u001b[0m \u001b[1;32min\u001b[0m \u001b[0mparseURL\u001b[0m\u001b[1;33m(\u001b[0m\u001b[0mbaseURL\u001b[0m\u001b[1;33m)\u001b[0m\u001b[1;33m:\u001b[0m\u001b[1;33m\u001b[0m\u001b[1;33m\u001b[0m\u001b[0m\n\u001b[0m\u001b[0;32m     29\u001b[0m         \u001b[0m_urlparse\u001b[0m \u001b[1;33m=\u001b[0m \u001b[0mrequests\u001b[0m\u001b[1;33m.\u001b[0m\u001b[0mcompat\u001b[0m\u001b[1;33m.\u001b[0m\u001b[0murlparse\u001b[0m\u001b[1;33m(\u001b[0m\u001b[0mhref\u001b[0m\u001b[1;33m)\u001b[0m\u001b[1;33m\u001b[0m\u001b[1;33m\u001b[0m\u001b[0m\n\u001b[0;32m     30\u001b[0m         \u001b[0mnetloc\u001b[0m \u001b[1;33m=\u001b[0m \u001b[1;34m\"://\"\u001b[0m\u001b[1;33m.\u001b[0m\u001b[0mjoin\u001b[0m\u001b[1;33m(\u001b[0m\u001b[0m_urlparse\u001b[0m\u001b[1;33m[\u001b[0m\u001b[1;33m:\u001b[0m\u001b[1;36m2\u001b[0m\u001b[1;33m]\u001b[0m\u001b[1;33m)\u001b[0m\u001b[1;33m\u001b[0m\u001b[1;33m\u001b[0m\u001b[0m\n",
      "\u001b[1;32m<ipython-input-243-dd88c08e3132>\u001b[0m in \u001b[0;36mparseURL\u001b[1;34m(seed)\u001b[0m\n\u001b[0;32m      1\u001b[0m \u001b[1;32mdef\u001b[0m \u001b[0mparseURL\u001b[0m\u001b[1;33m(\u001b[0m\u001b[0mseed\u001b[0m\u001b[1;33m)\u001b[0m\u001b[1;33m:\u001b[0m\u001b[1;33m\u001b[0m\u001b[1;33m\u001b[0m\u001b[0m\n\u001b[1;32m----> 2\u001b[1;33m     \u001b[0mhtml\u001b[0m \u001b[1;33m=\u001b[0m \u001b[0mdownload\u001b[0m\u001b[1;33m(\u001b[0m\u001b[1;34m\"get\"\u001b[0m\u001b[1;33m,\u001b[0m \u001b[0mseed\u001b[0m\u001b[1;33m)\u001b[0m\u001b[1;33m\u001b[0m\u001b[1;33m\u001b[0m\u001b[0m\n\u001b[0m\u001b[0;32m      3\u001b[0m     \u001b[0mdom\u001b[0m \u001b[1;33m=\u001b[0m \u001b[0mBeautifulSoup\u001b[0m\u001b[1;33m(\u001b[0m\u001b[0mhtml\u001b[0m\u001b[1;33m.\u001b[0m\u001b[0mtext\u001b[0m\u001b[1;33m,\u001b[0m \u001b[1;34m\"lxml\"\u001b[0m\u001b[1;33m)\u001b[0m\u001b[1;33m\u001b[0m\u001b[1;33m\u001b[0m\u001b[0m\n\u001b[0;32m      4\u001b[0m \u001b[1;33m\u001b[0m\u001b[0m\n\u001b[0;32m      5\u001b[0m     \u001b[1;32mreturn\u001b[0m \u001b[1;33m[\u001b[0m\u001b[0mrequests\u001b[0m\u001b[1;33m.\u001b[0m\u001b[0mcompat\u001b[0m\u001b[1;33m.\u001b[0m\u001b[0murljoin\u001b[0m\u001b[1;33m(\u001b[0m\u001b[0murl\u001b[0m\u001b[1;33m,\u001b[0m \u001b[0m_\u001b[0m\u001b[1;33m[\u001b[0m\u001b[1;34m\"href\"\u001b[0m\u001b[1;33m]\u001b[0m\u001b[1;33m)\u001b[0m \u001b[1;32mfor\u001b[0m \u001b[0m_\u001b[0m \u001b[1;32min\u001b[0m \u001b[0mdom\u001b[0m\u001b[1;33m.\u001b[0m\u001b[0mfind_all\u001b[0m\u001b[1;33m(\u001b[0m\u001b[1;34m\"a\"\u001b[0m\u001b[1;33m)\u001b[0m \u001b[1;32mif\u001b[0m \u001b[0m_\u001b[0m\u001b[1;33m.\u001b[0m\u001b[0mhas_attr\u001b[0m\u001b[1;33m(\u001b[0m\u001b[1;34m\"href\"\u001b[0m\u001b[1;33m)\u001b[0m \u001b[1;32mand\u001b[0m \u001b[0mlen\u001b[0m\u001b[1;33m(\u001b[0m\u001b[0m_\u001b[0m\u001b[1;33m[\u001b[0m\u001b[1;34m\"href\"\u001b[0m\u001b[1;33m]\u001b[0m\u001b[1;33m)\u001b[0m \u001b[1;33m>\u001b[0m \u001b[1;36m3\u001b[0m\u001b[1;33m]\u001b[0m\u001b[1;33m\u001b[0m\u001b[1;33m\u001b[0m\u001b[0m\n",
      "\u001b[1;32m<ipython-input-119-d45c1fdc692b>\u001b[0m in \u001b[0;36mdownload\u001b[1;34m(method, url, params, data, headers)\u001b[0m\n\u001b[0;32m      4\u001b[0m     \u001b[1;32mtry\u001b[0m\u001b[1;33m:\u001b[0m\u001b[1;33m\u001b[0m\u001b[1;33m\u001b[0m\u001b[0m\n\u001b[0;32m      5\u001b[0m         \u001b[0mresp\u001b[0m \u001b[1;33m=\u001b[0m \u001b[0mrequests\u001b[0m\u001b[1;33m.\u001b[0m\u001b[0mrequest\u001b[0m\u001b[1;33m(\u001b[0m\u001b[0mmethod\u001b[0m\u001b[1;33m,\u001b[0m \u001b[0murl\u001b[0m\u001b[1;33m,\u001b[0m \u001b[0mparams\u001b[0m\u001b[1;33m=\u001b[0m\u001b[0mparams\u001b[0m\u001b[1;33m,\u001b[0m\u001b[0mdata\u001b[0m\u001b[1;33m=\u001b[0m\u001b[0mdata\u001b[0m\u001b[1;33m,\u001b[0m\u001b[0mheaders\u001b[0m\u001b[1;33m=\u001b[0m\u001b[0mheaders\u001b[0m\u001b[1;33m)\u001b[0m\u001b[1;33m\u001b[0m\u001b[1;33m\u001b[0m\u001b[0m\n\u001b[1;32m----> 6\u001b[1;33m     \u001b[1;32mexcept\u001b[0m \u001b[0mrequests\u001b[0m\u001b[1;33m.\u001b[0m\u001b[0mexceptionsp\u001b[0m\u001b[1;33m.\u001b[0m\u001b[0mHTTPerror\u001b[0m \u001b[1;32mas\u001b[0m \u001b[0me\u001b[0m\u001b[1;33m:\u001b[0m\u001b[1;33m\u001b[0m\u001b[1;33m\u001b[0m\u001b[0m\n\u001b[0m\u001b[0;32m      7\u001b[0m         \u001b[0mprint\u001b[0m\u001b[1;33m(\u001b[0m\u001b[0me\u001b[0m\u001b[1;33m.\u001b[0m\u001b[0mcode\u001b[0m\u001b[1;33m)\u001b[0m\u001b[1;33m\u001b[0m\u001b[1;33m\u001b[0m\u001b[0m\n\u001b[0;32m      8\u001b[0m         \u001b[0mprint\u001b[0m\u001b[1;33m(\u001b[0m\u001b[0me\u001b[0m\u001b[1;33m.\u001b[0m\u001b[0mreason\u001b[0m\u001b[1;33m)\u001b[0m\u001b[1;33m\u001b[0m\u001b[1;33m\u001b[0m\u001b[0m\n",
      "\u001b[1;31mAttributeError\u001b[0m: module 'requests' has no attribute 'exceptionsp'"
     ]
    }
   ],
   "source": [
    "i = 0\n",
    "while True:\n",
    "    cur.execute(\"\"\"\n",
    "        SELECT table1.id, table2.netloc,\n",
    "            table1.path, table1.param, table1.depth, table2.id\n",
    "        FROM table1 \n",
    "        JOIN table2 \n",
    "        ON table1.table2_id=table2.id \n",
    "        WHERE table1.seen=FALSE and table1.depth < 3\n",
    "        ORDER BY table1.date ASC \n",
    "        LIMIT 0,1;\n",
    "    \"\"\")\n",
    "    # pop 했다\n",
    "    seed = cur.fetchone()\n",
    "    if not seed or i>1000:\n",
    "        break;\n",
    "    i += 1\n",
    "    \n",
    "    # seen으로 넘기는건뎅 \n",
    "    cur.execute(\"\"\"\n",
    "        UPDATE table1\n",
    "        SET seen=TRUE\n",
    "        WHERE id=?\n",
    "    \"\"\", [seed[0]])\n",
    "    con.commit()\n",
    "    \n",
    "    baseURL = \"{0}{1}?{2}\".format(seed[1], seed[2], seed[3])\n",
    "    for href in parseURL(baseURL):\n",
    "        _urlparse = requests.compat.urlparse(href)\n",
    "        netloc = \"://\".join(_urlparse[:2])\n",
    "        cur.execute(\"SELECT id FROM table2 WHERE netloc=? LIMIT 0,1\", [netloc])\n",
    "        netlocID = cur.fetchone()\n",
    "\n",
    "        if not netlocID:\n",
    "            cur.execute(\"INSERT INTO table2(netloc) VALUES(?)\", [netloc])\n",
    "            con.commit()\n",
    "            cur.execute(\"SELECT id FROM table2 WHERE netloc=? LIMIT 0,1\", [netloc])\n",
    "            netlocID = cur.fetchone()\n",
    "\n",
    "        cur.execute(\"INSERT INTO table1(table2_id, path, param, depth, inbound) VALUES (?, ?, ?, ?, ?)\", [netlocID[0], _urlparse[2], _urlparse[4], seed[4]+1, seed[5]])\n",
    "        con.commit()"
   ]
  },
  {
   "cell_type": "code",
   "execution_count": 243,
   "metadata": {},
   "outputs": [],
   "source": [
    "def parseURL(seed):\n",
    "    html = download(\"get\", seed)\n",
    "    dom = BeautifulSoup(html.text, \"lxml\")\n",
    "    \n",
    "    return [requests.compat.urljoin(url, _[\"href\"]) for _ in dom.find_all(\"a\") if _.has_attr(\"href\") and len(_[\"href\"]) > 3]"
   ]
  },
  {
   "cell_type": "code",
   "execution_count": null,
   "metadata": {},
   "outputs": [],
   "source": [
    "url = \"https://www.google.com/search\"\n",
    "html = download(\"get\", url, param={\"q\":\"박보영\"})\n",
    "dom = BeautifulSoup(html.text,\"lxml\")\n",
    "\n",
    "\n",
    "queue = list()\n",
    "queue.append([(_.find_parent()[\"href\"],1) for _ in dom.select(\".LC20lb\")])\n",
    "seen = list()\n",
    "queue.extend([(_[\"href\"],1) for _ in dom.select(\"#blogColl a.f_link_b\")])\n",
    "while queue:\n",
    "    baseURL = queue.pop(0)\n",
    "    seen.append(baseURL)\n",
    "    time.sleep(1)\n",
    "    linkList = parseURL(baseURL)\n",
    "    for link in linkList:\n",
    "        if link not in queue and link not in seen:\n",
    "            queue.append(link)\n",
    "    print(\"Queue: {0}, seen: {1}\".format(len(queue), len(seen)))"
   ]
  },
  {
   "cell_type": "code",
   "execution_count": 265,
   "metadata": {},
   "outputs": [],
   "source": [
    "cur.close()\n",
    "con.close()"
   ]
  },
  {
   "cell_type": "markdown",
   "metadata": {},
   "source": [
    "select inbound, count(inbound)\n",
    "\n",
    "from table1 where table2_id=2 group by inbound;"
   ]
  },
  {
   "cell_type": "code",
   "execution_count": 274,
   "metadata": {},
   "outputs": [
    {
     "data": {
      "text/plain": [
       "[(0, 2), (2, 20)]"
      ]
     },
     "execution_count": 274,
     "metadata": {},
     "output_type": "execute_result"
    }
   ],
   "source": [
    "cur.execute(\"\"\"\n",
    "select inbound, count(inbound)\n",
    "from table1 where table2_id=2 group by inbound;\n",
    "\"\"\")\n",
    "cur.fetchall()"
   ]
  },
  {
   "cell_type": "code",
   "execution_count": 275,
   "metadata": {},
   "outputs": [
    {
     "data": {
      "text/plain": [
       "[(1322,)]"
      ]
     },
     "execution_count": 275,
     "metadata": {},
     "output_type": "execute_result"
    }
   ],
   "source": [
    "cur.execute(\"\"\"\n",
    "select count(inbound)\n",
    "from table1 where inbound=1;\n",
    "\"\"\")\n",
    "cur.fetchall()"
   ]
  },
  {
   "cell_type": "code",
   "execution_count": null,
   "metadata": {},
   "outputs": [],
   "source": []
  }
 ],
 "metadata": {
  "kernelspec": {
   "display_name": "Python 3",
   "language": "python",
   "name": "python3"
  },
  "language_info": {
   "codemirror_mode": {
    "name": "ipython",
    "version": 3
   },
   "file_extension": ".py",
   "mimetype": "text/x-python",
   "name": "python",
   "nbconvert_exporter": "python",
   "pygments_lexer": "ipython3",
   "version": "3.7.3"
  }
 },
 "nbformat": 4,
 "nbformat_minor": 2
}
