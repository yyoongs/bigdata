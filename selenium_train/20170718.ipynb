{
 "cells": [
  {
   "cell_type": "markdown",
   "metadata": {},
   "source": [
    "## 인터파크"
   ]
  },
  {
   "cell_type": "code",
   "execution_count": 2,
   "metadata": {},
   "outputs": [],
   "source": [
    "from selenium import webdriver\n",
    "\n",
    "driver = webdriver.Chrome()"
   ]
  },
  {
   "cell_type": "code",
   "execution_count": 8,
   "metadata": {},
   "outputs": [],
   "source": [
    "driver.get(\"http://ticket.interpark.com\")"
   ]
  },
  {
   "cell_type": "code",
   "execution_count": 17,
   "metadata": {},
   "outputs": [],
   "source": [
    "import json\n",
    "\n",
    "with open(\"test.json\") as fp:\n",
    "    account = json.load(fp)"
   ]
  },
  {
   "cell_type": "code",
   "execution_count": 18,
   "metadata": {},
   "outputs": [
    {
     "data": {
      "text/plain": [
       "['cpth',\n",
       " '_gat_UA-93889457-1',\n",
       " 'pwdChgYn',\n",
       " 'SAVEID',\n",
       " 'IEGS%5FGUIF',\n",
       " 'TSession%5FID',\n",
       " 'ASPSESSIONIDQAARARTQ',\n",
       " '_trs_id',\n",
       " 'cto_lwid',\n",
       " 'ASPSESSIONIDQADTARSR',\n",
       " '_gid',\n",
       " 'ASPSESSIONIDSCBSASRQ',\n",
       " '_ga',\n",
       " 'captcha_text',\n",
       " 'GNBBookCnt',\n",
       " '_fbp',\n",
       " '_trs_sid',\n",
       " 'ASPSESSIONIDQCDQCQRT',\n",
       " '_trs_flow',\n",
       " 'pcid',\n",
       " 'OAX']"
      ]
     },
     "execution_count": 18,
     "metadata": {},
     "output_type": "execute_result"
    }
   ],
   "source": [
    "[_[\"name\"] for _ in driver.get_cookies()]"
   ]
  },
  {
   "cell_type": "code",
   "execution_count": 19,
   "metadata": {},
   "outputs": [],
   "source": [
    "def login(account,method=\"login\"):\n",
    "    try:\n",
    "        login = driver.find_element_by_css_selector('#logstatus > a')\n",
    "        if method==\"login\":\n",
    "            if login and login.get_attribute(\"id\") == \"aLogin\":\n",
    "                driver.get(login.get_attribute(\"href\"))\n",
    "                driver.find_element_by_css_selector(\"#UID\").send_keys(account[\"id\"])\n",
    "                driver.find_element_by_css_selector(\"#PWD\").send_keys(account[\"pw\"])\n",
    "                driver.find_element_by_css_selector(\"div.loginBtn > button\").click()\n",
    "        else:\n",
    "            login.click()\n",
    "            \n",
    "    except:\n",
    "        return False\n",
    "    return True"
   ]
  },
  {
   "cell_type": "code",
   "execution_count": 21,
   "metadata": {},
   "outputs": [
    {
     "data": {
      "text/plain": [
       "True"
      ]
     },
     "execution_count": 21,
     "metadata": {},
     "output_type": "execute_result"
    }
   ],
   "source": [
    "login(account,\"login\")"
   ]
  },
  {
   "cell_type": "code",
   "execution_count": 22,
   "metadata": {},
   "outputs": [],
   "source": [
    "_login = [_[\"name\"] for _ in driver.get_cookies()]"
   ]
  },
  {
   "cell_type": "code",
   "execution_count": 23,
   "metadata": {},
   "outputs": [
    {
     "data": {
      "text/plain": [
       "['MemHash',\n",
       " 'memRealName',\n",
       " 'TMem%5FNO',\n",
       " 'HMem%5FNO',\n",
       " 'TSecLogin',\n",
       " 'TSession%5FID',\n",
       " 'IMem%5FNO',\n",
       " 'interparkID',\n",
       " 'ASPSESSIONIDQAARARTQ',\n",
       " 'iaf',\n",
       " 'OAX',\n",
       " 'TPartner',\n",
       " 'tempinterparkGUEST',\n",
       " 'ISession%5FID',\n",
       " 'TKLogin',\n",
       " 'pwdChgYn',\n",
       " 'ASPSESSIONIDSCBSASRQ',\n",
       " 'SAVEID',\n",
       " 'interparkstamp',\n",
       " 'IEGS%5FGUIF',\n",
       " 'siteAgree',\n",
       " '_trs_id',\n",
       " 'cto_lwid',\n",
       " 'ASPSESSIONIDQADTARSR',\n",
       " 'alMemNm',\n",
       " '_gid',\n",
       " '_ga',\n",
       " 'ASPSESSIONIDQCDQCQRT',\n",
       " 'captcha_text',\n",
       " 'GNBBookCnt',\n",
       " '_fbp',\n",
       " 'PrivacyCertify',\n",
       " '_trs_sid',\n",
       " '_trs_flow',\n",
       " 'interparkSNO',\n",
       " 'pcid']"
      ]
     },
     "execution_count": 23,
     "metadata": {},
     "output_type": "execute_result"
    }
   ],
   "source": [
    "_login"
   ]
  },
  {
   "cell_type": "code",
   "execution_count": 25,
   "metadata": {},
   "outputs": [],
   "source": [
    "if \"ISession%5FID\" not in [_[\"name\"] for _ in driver.get_cookies()]:\n",
    "    login(account)\n",
    "else:\n",
    "    login(None, \"logout\")"
   ]
  },
  {
   "cell_type": "code",
   "execution_count": null,
   "metadata": {},
   "outputs": [],
   "source": [
    "def gnbbtns():\n",
    "    links = [_ for ]\n",
    "    if category in titles:\n",
    "        return links[titles.index(category)].get_attribute(\"href\")\n",
    "    return False"
   ]
  },
  {
   "cell_type": "code",
   "execution_count": null,
   "metadata": {},
   "outputs": [],
   "source": [
    "url = gnbbtns()\n",
    "if url:\n",
    "    driver.get(url)"
   ]
  },
  {
   "cell_type": "code",
   "execution_count": 34,
   "metadata": {},
   "outputs": [],
   "source": [
    "def hotissue(issue=None):\n",
    "    issues = [_ for _ in driver.find_elements_by_css_selector(\"div.wrap_issue dl.list > dt.issue_obj > a\")]\n",
    "    title = [_.find_element_by_css_selector(\"span.txt1\").text for _ in issues]\n",
    "    \n",
    "    if issue in title:\n",
    "        return issues[title.index(issue)].get_attribute(\"href\")\n",
    "    \n",
    "    else:\n",
    "        return issues[0].get_attribute(\"href\")"
   ]
  },
  {
   "cell_type": "code",
   "execution_count": 35,
   "metadata": {},
   "outputs": [
    {
     "data": {
      "text/plain": [
       "'http://ticket.interpark.com/Ticket/Goods/TPBridge.asp?GoodsCode=19008643'"
      ]
     },
     "execution_count": 35,
     "metadata": {},
     "output_type": "execute_result"
    }
   ],
   "source": [
    "hotissue(\"박정현\")"
   ]
  },
  {
   "cell_type": "code",
   "execution_count": 36,
   "metadata": {},
   "outputs": [],
   "source": [
    "driver.get(hotissue(\"박정현\"))"
   ]
  },
  {
   "cell_type": "code",
   "execution_count": 41,
   "metadata": {},
   "outputs": [],
   "source": [
    "def bookWindow(options=None):\n",
    "    if options:\n",
    "        iframe = driver.find_element_by_css_selector(\"#ifrCalendar\")\n",
    "        \n",
    "        if iframe:\n",
    "            driver.switch_to_frame(iframe)\n",
    "            DATES = [ _ for _ in driver.find_elements_by_css_selector(\"td.able > a\")]\n",
    "            title = [_.text for _ in dates]\n",
    "        \n",
    "        if options in title:\n",
    "            driver.execute_script(dates[title.index(options).get_attribute(\"onclick\")])\n",
    "        \n",
    "        else:\n",
    "            driver.execute_script(dates[0].get_attribute(\"onclick\"))\n",
    "        driver.switch_to_default_content()\n",
    "        \n",
    "        driver.find_element_by_css_selector(\".tk_dt_btn_TArea > a.btn_rev\").click()\n",
    "        driver.switch_to_window(driver.window_handles[-1])"
   ]
  },
  {
   "cell_type": "code",
   "execution_count": 42,
   "metadata": {},
   "outputs": [],
   "source": [
    "bookWindow()"
   ]
  },
  {
   "cell_type": "code",
   "execution_count": null,
   "metadata": {},
   "outputs": [],
   "source": []
  },
  {
   "cell_type": "code",
   "execution_count": null,
   "metadata": {},
   "outputs": [],
   "source": []
  },
  {
   "cell_type": "code",
   "execution_count": null,
   "metadata": {},
   "outputs": [],
   "source": []
  },
  {
   "cell_type": "code",
   "execution_count": null,
   "metadata": {},
   "outputs": [],
   "source": []
  },
  {
   "cell_type": "code",
   "execution_count": null,
   "metadata": {},
   "outputs": [],
   "source": []
  },
  {
   "cell_type": "code",
   "execution_count": null,
   "metadata": {},
   "outputs": [],
   "source": []
  },
  {
   "cell_type": "code",
   "execution_count": null,
   "metadata": {},
   "outputs": [],
   "source": []
  },
  {
   "cell_type": "code",
   "execution_count": null,
   "metadata": {},
   "outputs": [],
   "source": []
  }
 ],
 "metadata": {
  "kernelspec": {
   "display_name": "Python 3",
   "language": "python",
   "name": "python3"
  },
  "language_info": {
   "codemirror_mode": {
    "name": "ipython",
    "version": 3
   },
   "file_extension": ".py",
   "mimetype": "text/x-python",
   "name": "python",
   "nbconvert_exporter": "python",
   "pygments_lexer": "ipython3",
   "version": "3.7.3"
  }
 },
 "nbformat": 4,
 "nbformat_minor": 2
}
