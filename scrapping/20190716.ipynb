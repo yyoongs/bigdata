{
 "cells": [
  {
   "cell_type": "markdown",
   "metadata": {},
   "source": [
    "# scrapping"
   ]
  },
  {
   "cell_type": "code",
   "execution_count": 3,
   "metadata": {},
   "outputs": [],
   "source": [
    "from bs4 import BeautifulSoup"
   ]
  },
  {
   "cell_type": "code",
   "execution_count": 4,
   "metadata": {},
   "outputs": [],
   "source": [
    "import html"
   ]
  },
  {
   "cell_type": "code",
   "execution_count": 5,
   "metadata": {},
   "outputs": [],
   "source": [
    "import requests\n",
    "\n",
    "def download(method, url, params=None, data=None, headers=None):\n",
    "    try:\n",
    "        resp = requests.request(method, url, params=params,data=data,headers=headers)\n",
    "    except requests.exceptionsp.HTTPerror as e:\n",
    "        print(e.code)\n",
    "        print(e.reason)\n",
    "    \n",
    "    return resp\n"
   ]
  },
  {
   "cell_type": "code",
   "execution_count": 6,
   "metadata": {},
   "outputs": [],
   "source": [
    "def parseURL(seed):\n",
    "    html = download(\"get\", seed)\n",
    "    dom = BeautifulSoup(html.text, \"lxml\")\n",
    "    \n",
    "    return [requests.compat.urljoin(url, _[\"href\"]) for _ in dom.find_all(\"a\") if _.has_attr(\"href\") and len(_[\"href\"]) > 3]"
   ]
  },
  {
   "cell_type": "code",
   "execution_count": 11,
   "metadata": {},
   "outputs": [],
   "source": [
    "import time"
   ]
  },
  {
   "cell_type": "code",
   "execution_count": 91,
   "metadata": {},
   "outputs": [
    {
     "name": "stdout",
     "output_type": "stream",
     "text": [
      "http://cdn.ppomppu.co.kr/zboard/data/_thumb/ppomppu/2/small_323882.jpg?t=20190716152450\n",
      "[G마켓] LG 휘센 제습기 DQ168PBE (368,470원/ 무료배송)\n",
      "(0, 0)\n",
      "159\n",
      "\n",
      "http://cdn.ppomppu.co.kr/zboard/data/_thumb/ppomppu/1/small_323881.jpg?t=20190716150504\n",
      "[11번가] LG 공식판매점 디오스 인덕션 전기레인지 BEF3G 3구 (1,490,000/무료)\n",
      "0 , 1\n",
      "685\n",
      "\n",
      "http://cdn.ppomppu.co.kr/zboard/data/_thumb/ppomppu/0/small_323880.jpg?t=20190716151334\n",
      "[셀티바] 다이어트유산균(48%할인/무료배송)\n",
      "0 , 1\n",
      "406\n",
      "\n",
      "http://cdn.ppomppu.co.kr/zboard/data/_thumb/ppomppu/9/small_323879.jpg?t=20190716145420\n",
      "[위메프] EVA 30CM 마사지 폼롤러 (5900/무료)\n",
      "(0, 0)\n",
      "2244\n",
      "\n",
      "http://cdn.ppomppu.co.kr/zboard/data/_thumb/ppomppu/8/small_323878.jpg?t=20190716145350\n",
      "[위메프] LG 미니빔 HF60LA FHD 1400루멘 (835,640/무료)\n",
      "(0, 0)\n",
      "1055\n",
      "\n",
      "http://cdn.ppomppu.co.kr/zboard/data/_thumb/ppomppu/7/small_323877.jpg?t=20190716144040\n",
      "[11번가] 리스테린 그린티 마일드 750mlx2+250mlx2  (13,500/무료배송)\n",
      "(0, 0)\n",
      "528\n",
      "\n",
      "http://cdn.ppomppu.co.kr/zboard/data/_thumb/ppomppu/6/small_323876.jpg?t=20190716134948\n",
      "[Gsuite] Gsuite Basic India (3700원(월) / 무료)\n",
      "3 , 0\n",
      "5622\n",
      "\n",
      "http://cdn.ppomppu.co.kr/zboard/data/_thumb/ppomppu/5/small_323875.jpg?t=20190716133713\n",
      "[하이마트몰] 갤럭시버즈 (138,500원 / 무배) 오너스 첫달 무료체험시, 최대 50% 페이백\n",
      "14 , 6\n",
      "10098\n",
      "\n",
      "http://cdn.ppomppu.co.kr/zboard/data/_thumb/ppomppu/4/small_323874.jpg?t=20190716133521\n",
      "[옥션] 식사에반하다25개입 (26,530원 / 무배)\n",
      "1 , 0\n",
      "5108\n",
      "\n",
      "http://cdn.ppomppu.co.kr/zboard/data/_thumb/ppomppu/3/small_323873.jpg?t=20190716130113\n",
      "[옥션](스마일클럽전용딜) 생활공작소 제습제 520ml*12개*2 ->24개 (14,280원/무료) 하나/NH농협/KB국민/비씨/현대/신한 12,300원\n",
      "9 , 0\n",
      "2450\n",
      "\n",
      "http://cdn.ppomppu.co.kr/zboard/data/_thumb/ppomppu/2/small_323872.jpg?t=20190716123402\n",
      "[티몬] (티몬페이전용)해피머니 10만원권 3장(271,500원/쿠폰적용시 269,900원)\n",
      "35 , 0\n",
      "9630\n",
      "\n",
      "http://cdn.ppomppu.co.kr/zboard/data/_thumb/ppomppu/1/small_323871.jpg?t=20190716121801\n",
      "[티몬] 해피머니 10만원권 (90,900원/0원)\n",
      "80 , 0\n",
      "13661\n",
      "\n",
      "http://cdn.ppomppu.co.kr/zboard/data/_thumb/ppomppu/0/small_323870.jpg?t=20190716121542\n",
      "[티몬] 1등급 한돈 삼겹살 600g (6,500/무료배송)\n",
      "4 , 0\n",
      "5919\n",
      "\n",
      "http://cdn.ppomppu.co.kr/zboard/data/_thumb/ppomppu/9/small_323869.jpg?t=20190716114613\n",
      "[우체국쇼핑] 진안 매콤화끈 중독의맛 뼈없는 직화불닭발 1+1(2팩)(8500/무료) 쿠폰적용시7650\n",
      "7 , 0\n",
      "4511\n",
      "\n",
      "http://cdn.ppomppu.co.kr/zboard/data/_thumb/ppomppu/8/small_323868.jpg?t=20190716114856\n",
      "[유튜브] 유튜브프리미엄 인도 ( 2200원(월), 3200원(월)6명 / 무료)\n",
      "81 , 17\n",
      "38717\n",
      "\n",
      "http://cdn.ppomppu.co.kr/zboard/data/_thumb/ppomppu/7/small_323867.jpg?t=20190716112037\n",
      "[KW 주식회사 ] 휴대용 미니 선풍기 ( 5,900~8,900 / 무료)\n",
      "0 , 1\n",
      "2600\n",
      "\n",
      "http://cdn.ppomppu.co.kr/zboard/data/_thumb/ppomppu/6/small_323866.jpg?t=20190716111807\n",
      "[11번가] 벨킨 스마트폰 전기종 호환 충전케이블(9,900/무배)\n",
      "4 , 0\n",
      "3539\n",
      "\n",
      "http://cdn.ppomppu.co.kr/zboard/data/_thumb/ppomppu/5/small_323865.jpg?t=20190716111521\n",
      "[네이버스토어팜] 뉴발란스 잔테v3 (49,800원/무료)\n",
      "10 , 0\n",
      "10055\n",
      "\n",
      "http://cdn.ppomppu.co.kr/zboard/data/_thumb/ppomppu/4/small_323864.jpg?t=20190716110141\n",
      "[LG생활건강] 홈스타 뿌리는 곰팡이 (9,900/무료)\n",
      "3 , 0\n",
      "2352\n",
      "\n",
      "http://cdn.ppomppu.co.kr/zboard/data/_thumb/ppomppu/3/small_323863.jpg?t=20190716104522\n",
      "[네이버쇼핑] 잘만 CNPS10X OPTIMA II 블랙 CPU쿨러 (19,900/2500)\n",
      "1 , 0\n",
      "3289\n",
      "\n"
     ]
    }
   ],
   "source": [
    "url = \"http://www.ppomppu.co.kr/zboard/zboard.php\"\n",
    "params={ \"id\":\"ppomppu\", \"page\":1}\n",
    "html = download(\"get\", url, params=params)\n",
    "dom = BeautifulSoup(html.text,\"lxml\")\n",
    "\n",
    "\n",
    "# dom.select(\"tr[class^=list]\")[1:]\n",
    "\n",
    "# class의 이름이 list로 시작하는 tr값 찾기! ^=\n",
    "for tr in dom.select(\"tr[class^=list]\")[1:]:\n",
    "    td = tr.find_all(\"td\",recursive=False)\n",
    "    print(requests.compat.urljoin(url, td[3].a.img[\"src\"]))\n",
    "    print(td[3].select(\"td[valign=middle] > a\")[0].text)\n",
    "    temp = td[5].text.split(\"-\")\n",
    "    print((0,0) if len(temp) < 2 else \",\".join(temp))\n",
    "    print(td[6].text.strip())\n",
    "    print()\n",
    "\n",
    "# good = [ _.text[:2] if _.text is not '' else None for _ in dom.select(\".list1 td:nth-of-type(6)\")]\n",
    "# title = [ _.text for _ in dom.select(\".list_title\")]\n",
    "# search = [ _.text for _ in dom.select(\".list1 td:nth-of-type(7)\")]"
   ]
  },
  {
   "cell_type": "code",
   "execution_count": 77,
   "metadata": {},
   "outputs": [
    {
     "data": {
      "text/plain": [
       "['[11번가] LG 공식판매점 디오스 인덕션 전기레인지 BEF3G 3구 (1,490,000/무료)',\n",
       " '[위메프] EVA 30CM 마사지 폼롤러 (5900/무료)',\n",
       " '[위메프] LG 미니빔 HF60LA FHD 1400루멘 (835,640/무료)',\n",
       " '[11번가] 리스테린 그린티 마일드 750mlx2+250mlx2  (13,500/무료배송)',\n",
       " '[Gsuite] Gsuite Basic India (3700원(월) / 무료)',\n",
       " '[하이마트몰] 갤럭시버즈 (138,500원 / 무배) 오너스 첫달 무료체험시, 최대 50% 페이백',\n",
       " '[옥션] 식사에반하다25개입 (26,530원 / 무배)',\n",
       " '[티몬] (티몬페이전용)해피머니 10만원권 3장(271,500원/쿠폰적용시 269,900원)',\n",
       " '[티몬] 해피머니 10만원권 (90,900원/0원)',\n",
       " '[티몬] 1등급 한돈 삼겹살 600g (6,500/무료배송)',\n",
       " '[우체국쇼핑] 진안 매콤화끈 중독의맛 뼈없는 직화불닭발 1+1(2팩)(8500/무료) 쿠폰적용시7650',\n",
       " '[유튜브] 유튜브프리미엄 인도 ( 2200원(월), 3200원(월)6명 / 무료)',\n",
       " '[11번가] 벨킨 스마트폰 전기종 호환 충전케이블(9,900/무배)',\n",
       " '[네이버스토어팜] 뉴발란스 잔테v3 (49,800원/무료)',\n",
       " '[LG생활건강] 홈스타 뿌리는 곰팡이 (9,900/무료)',\n",
       " '[Gsshop] 본이트츄잉캔디(12900/무배)']"
      ]
     },
     "execution_count": 77,
     "metadata": {},
     "output_type": "execute_result"
    }
   ],
   "source": [
    "title"
   ]
  },
  {
   "cell_type": "code",
   "execution_count": 10,
   "metadata": {},
   "outputs": [
    {
     "ename": "AttributeError",
     "evalue": "module 'requests' has no attribute 'exceptionsp'",
     "output_type": "error",
     "traceback": [
      "\u001b[1;31m---------------------------------------------------------------------------\u001b[0m",
      "\u001b[1;31mMissingSchema\u001b[0m                             Traceback (most recent call last)",
      "\u001b[1;32m<ipython-input-5-d45c1fdc692b>\u001b[0m in \u001b[0;36mdownload\u001b[1;34m(method, url, params, data, headers)\u001b[0m\n\u001b[0;32m      4\u001b[0m     \u001b[1;32mtry\u001b[0m\u001b[1;33m:\u001b[0m\u001b[1;33m\u001b[0m\u001b[1;33m\u001b[0m\u001b[0m\n\u001b[1;32m----> 5\u001b[1;33m         \u001b[0mresp\u001b[0m \u001b[1;33m=\u001b[0m \u001b[0mrequests\u001b[0m\u001b[1;33m.\u001b[0m\u001b[0mrequest\u001b[0m\u001b[1;33m(\u001b[0m\u001b[0mmethod\u001b[0m\u001b[1;33m,\u001b[0m \u001b[0murl\u001b[0m\u001b[1;33m,\u001b[0m \u001b[0mparams\u001b[0m\u001b[1;33m=\u001b[0m\u001b[0mparams\u001b[0m\u001b[1;33m,\u001b[0m\u001b[0mdata\u001b[0m\u001b[1;33m=\u001b[0m\u001b[0mdata\u001b[0m\u001b[1;33m,\u001b[0m\u001b[0mheaders\u001b[0m\u001b[1;33m=\u001b[0m\u001b[0mheaders\u001b[0m\u001b[1;33m)\u001b[0m\u001b[1;33m\u001b[0m\u001b[1;33m\u001b[0m\u001b[0m\n\u001b[0m\u001b[0;32m      6\u001b[0m     \u001b[1;32mexcept\u001b[0m \u001b[0mrequests\u001b[0m\u001b[1;33m.\u001b[0m\u001b[0mexceptionsp\u001b[0m\u001b[1;33m.\u001b[0m\u001b[0mHTTPerror\u001b[0m \u001b[1;32mas\u001b[0m \u001b[0me\u001b[0m\u001b[1;33m:\u001b[0m\u001b[1;33m\u001b[0m\u001b[1;33m\u001b[0m\u001b[0m\n",
      "\u001b[1;32mC:\\ProgramData\\Anaconda3\\lib\\site-packages\\requests\\api.py\u001b[0m in \u001b[0;36mrequest\u001b[1;34m(method, url, **kwargs)\u001b[0m\n\u001b[0;32m     59\u001b[0m     \u001b[1;32mwith\u001b[0m \u001b[0msessions\u001b[0m\u001b[1;33m.\u001b[0m\u001b[0mSession\u001b[0m\u001b[1;33m(\u001b[0m\u001b[1;33m)\u001b[0m \u001b[1;32mas\u001b[0m \u001b[0msession\u001b[0m\u001b[1;33m:\u001b[0m\u001b[1;33m\u001b[0m\u001b[1;33m\u001b[0m\u001b[0m\n\u001b[1;32m---> 60\u001b[1;33m         \u001b[1;32mreturn\u001b[0m \u001b[0msession\u001b[0m\u001b[1;33m.\u001b[0m\u001b[0mrequest\u001b[0m\u001b[1;33m(\u001b[0m\u001b[0mmethod\u001b[0m\u001b[1;33m=\u001b[0m\u001b[0mmethod\u001b[0m\u001b[1;33m,\u001b[0m \u001b[0murl\u001b[0m\u001b[1;33m=\u001b[0m\u001b[0murl\u001b[0m\u001b[1;33m,\u001b[0m \u001b[1;33m**\u001b[0m\u001b[0mkwargs\u001b[0m\u001b[1;33m)\u001b[0m\u001b[1;33m\u001b[0m\u001b[1;33m\u001b[0m\u001b[0m\n\u001b[0m\u001b[0;32m     61\u001b[0m \u001b[1;33m\u001b[0m\u001b[0m\n",
      "\u001b[1;32mC:\\ProgramData\\Anaconda3\\lib\\site-packages\\requests\\sessions.py\u001b[0m in \u001b[0;36mrequest\u001b[1;34m(self, method, url, params, data, headers, cookies, files, auth, timeout, allow_redirects, proxies, hooks, stream, verify, cert, json)\u001b[0m\n\u001b[0;32m    518\u001b[0m         )\n\u001b[1;32m--> 519\u001b[1;33m         \u001b[0mprep\u001b[0m \u001b[1;33m=\u001b[0m \u001b[0mself\u001b[0m\u001b[1;33m.\u001b[0m\u001b[0mprepare_request\u001b[0m\u001b[1;33m(\u001b[0m\u001b[0mreq\u001b[0m\u001b[1;33m)\u001b[0m\u001b[1;33m\u001b[0m\u001b[1;33m\u001b[0m\u001b[0m\n\u001b[0m\u001b[0;32m    520\u001b[0m \u001b[1;33m\u001b[0m\u001b[0m\n",
      "\u001b[1;32mC:\\ProgramData\\Anaconda3\\lib\\site-packages\\requests\\sessions.py\u001b[0m in \u001b[0;36mprepare_request\u001b[1;34m(self, request)\u001b[0m\n\u001b[0;32m    461\u001b[0m             \u001b[0mcookies\u001b[0m\u001b[1;33m=\u001b[0m\u001b[0mmerged_cookies\u001b[0m\u001b[1;33m,\u001b[0m\u001b[1;33m\u001b[0m\u001b[1;33m\u001b[0m\u001b[0m\n\u001b[1;32m--> 462\u001b[1;33m             \u001b[0mhooks\u001b[0m\u001b[1;33m=\u001b[0m\u001b[0mmerge_hooks\u001b[0m\u001b[1;33m(\u001b[0m\u001b[0mrequest\u001b[0m\u001b[1;33m.\u001b[0m\u001b[0mhooks\u001b[0m\u001b[1;33m,\u001b[0m \u001b[0mself\u001b[0m\u001b[1;33m.\u001b[0m\u001b[0mhooks\u001b[0m\u001b[1;33m)\u001b[0m\u001b[1;33m,\u001b[0m\u001b[1;33m\u001b[0m\u001b[1;33m\u001b[0m\u001b[0m\n\u001b[0m\u001b[0;32m    463\u001b[0m         )\n",
      "\u001b[1;32mC:\\ProgramData\\Anaconda3\\lib\\site-packages\\requests\\models.py\u001b[0m in \u001b[0;36mprepare\u001b[1;34m(self, method, url, headers, files, data, params, auth, cookies, hooks, json)\u001b[0m\n\u001b[0;32m    312\u001b[0m         \u001b[0mself\u001b[0m\u001b[1;33m.\u001b[0m\u001b[0mprepare_method\u001b[0m\u001b[1;33m(\u001b[0m\u001b[0mmethod\u001b[0m\u001b[1;33m)\u001b[0m\u001b[1;33m\u001b[0m\u001b[1;33m\u001b[0m\u001b[0m\n\u001b[1;32m--> 313\u001b[1;33m         \u001b[0mself\u001b[0m\u001b[1;33m.\u001b[0m\u001b[0mprepare_url\u001b[0m\u001b[1;33m(\u001b[0m\u001b[0murl\u001b[0m\u001b[1;33m,\u001b[0m \u001b[0mparams\u001b[0m\u001b[1;33m)\u001b[0m\u001b[1;33m\u001b[0m\u001b[1;33m\u001b[0m\u001b[0m\n\u001b[0m\u001b[0;32m    314\u001b[0m         \u001b[0mself\u001b[0m\u001b[1;33m.\u001b[0m\u001b[0mprepare_headers\u001b[0m\u001b[1;33m(\u001b[0m\u001b[0mheaders\u001b[0m\u001b[1;33m)\u001b[0m\u001b[1;33m\u001b[0m\u001b[1;33m\u001b[0m\u001b[0m\n",
      "\u001b[1;32mC:\\ProgramData\\Anaconda3\\lib\\site-packages\\requests\\models.py\u001b[0m in \u001b[0;36mprepare_url\u001b[1;34m(self, url, params)\u001b[0m\n\u001b[0;32m    386\u001b[0m \u001b[1;33m\u001b[0m\u001b[0m\n\u001b[1;32m--> 387\u001b[1;33m             \u001b[1;32mraise\u001b[0m \u001b[0mMissingSchema\u001b[0m\u001b[1;33m(\u001b[0m\u001b[0merror\u001b[0m\u001b[1;33m)\u001b[0m\u001b[1;33m\u001b[0m\u001b[1;33m\u001b[0m\u001b[0m\n\u001b[0m\u001b[0;32m    388\u001b[0m \u001b[1;33m\u001b[0m\u001b[0m\n",
      "\u001b[1;31mMissingSchema\u001b[0m: Invalid URL '[]': No schema supplied. Perhaps you meant http://[]?",
      "\nDuring handling of the above exception, another exception occurred:\n",
      "\u001b[1;31mAttributeError\u001b[0m                            Traceback (most recent call last)",
      "\u001b[1;32m<ipython-input-10-e756ecc647f0>\u001b[0m in \u001b[0;36m<module>\u001b[1;34m\u001b[0m\n\u001b[0;32m     12\u001b[0m     \u001b[0mseen\u001b[0m\u001b[1;33m.\u001b[0m\u001b[0mappend\u001b[0m\u001b[1;33m(\u001b[0m\u001b[0mbaseURL\u001b[0m\u001b[1;33m)\u001b[0m\u001b[1;33m\u001b[0m\u001b[1;33m\u001b[0m\u001b[0m\n\u001b[0;32m     13\u001b[0m     \u001b[0mtime\u001b[0m\u001b[1;33m.\u001b[0m\u001b[0msleep\u001b[0m\u001b[1;33m(\u001b[0m\u001b[1;36m1\u001b[0m\u001b[1;33m)\u001b[0m\u001b[1;33m\u001b[0m\u001b[1;33m\u001b[0m\u001b[0m\n\u001b[1;32m---> 14\u001b[1;33m     \u001b[0mlinkList\u001b[0m \u001b[1;33m=\u001b[0m \u001b[0mparseURL\u001b[0m\u001b[1;33m(\u001b[0m\u001b[0mbaseURL\u001b[0m\u001b[1;33m)\u001b[0m\u001b[1;33m\u001b[0m\u001b[1;33m\u001b[0m\u001b[0m\n\u001b[0m\u001b[0;32m     15\u001b[0m     \u001b[1;32mfor\u001b[0m \u001b[0mlink\u001b[0m \u001b[1;32min\u001b[0m \u001b[0mlinkList\u001b[0m\u001b[1;33m:\u001b[0m\u001b[1;33m\u001b[0m\u001b[1;33m\u001b[0m\u001b[0m\n\u001b[0;32m     16\u001b[0m         \u001b[1;32mif\u001b[0m \u001b[0mlink\u001b[0m \u001b[1;32mnot\u001b[0m \u001b[1;32min\u001b[0m \u001b[0mqueue\u001b[0m \u001b[1;32mand\u001b[0m \u001b[0mlink\u001b[0m \u001b[1;32mnot\u001b[0m \u001b[1;32min\u001b[0m \u001b[0mseen\u001b[0m\u001b[1;33m:\u001b[0m\u001b[1;33m\u001b[0m\u001b[1;33m\u001b[0m\u001b[0m\n",
      "\u001b[1;32m<ipython-input-6-dd88c08e3132>\u001b[0m in \u001b[0;36mparseURL\u001b[1;34m(seed)\u001b[0m\n\u001b[0;32m      1\u001b[0m \u001b[1;32mdef\u001b[0m \u001b[0mparseURL\u001b[0m\u001b[1;33m(\u001b[0m\u001b[0mseed\u001b[0m\u001b[1;33m)\u001b[0m\u001b[1;33m:\u001b[0m\u001b[1;33m\u001b[0m\u001b[1;33m\u001b[0m\u001b[0m\n\u001b[1;32m----> 2\u001b[1;33m     \u001b[0mhtml\u001b[0m \u001b[1;33m=\u001b[0m \u001b[0mdownload\u001b[0m\u001b[1;33m(\u001b[0m\u001b[1;34m\"get\"\u001b[0m\u001b[1;33m,\u001b[0m \u001b[0mseed\u001b[0m\u001b[1;33m)\u001b[0m\u001b[1;33m\u001b[0m\u001b[1;33m\u001b[0m\u001b[0m\n\u001b[0m\u001b[0;32m      3\u001b[0m     \u001b[0mdom\u001b[0m \u001b[1;33m=\u001b[0m \u001b[0mBeautifulSoup\u001b[0m\u001b[1;33m(\u001b[0m\u001b[0mhtml\u001b[0m\u001b[1;33m.\u001b[0m\u001b[0mtext\u001b[0m\u001b[1;33m,\u001b[0m \u001b[1;34m\"lxml\"\u001b[0m\u001b[1;33m)\u001b[0m\u001b[1;33m\u001b[0m\u001b[1;33m\u001b[0m\u001b[0m\n\u001b[0;32m      4\u001b[0m \u001b[1;33m\u001b[0m\u001b[0m\n\u001b[0;32m      5\u001b[0m     \u001b[1;32mreturn\u001b[0m \u001b[1;33m[\u001b[0m\u001b[0mrequests\u001b[0m\u001b[1;33m.\u001b[0m\u001b[0mcompat\u001b[0m\u001b[1;33m.\u001b[0m\u001b[0murljoin\u001b[0m\u001b[1;33m(\u001b[0m\u001b[0murl\u001b[0m\u001b[1;33m,\u001b[0m \u001b[0m_\u001b[0m\u001b[1;33m[\u001b[0m\u001b[1;34m\"href\"\u001b[0m\u001b[1;33m]\u001b[0m\u001b[1;33m)\u001b[0m \u001b[1;32mfor\u001b[0m \u001b[0m_\u001b[0m \u001b[1;32min\u001b[0m \u001b[0mdom\u001b[0m\u001b[1;33m.\u001b[0m\u001b[0mfind_all\u001b[0m\u001b[1;33m(\u001b[0m\u001b[1;34m\"a\"\u001b[0m\u001b[1;33m)\u001b[0m \u001b[1;32mif\u001b[0m \u001b[0m_\u001b[0m\u001b[1;33m.\u001b[0m\u001b[0mhas_attr\u001b[0m\u001b[1;33m(\u001b[0m\u001b[1;34m\"href\"\u001b[0m\u001b[1;33m)\u001b[0m \u001b[1;32mand\u001b[0m \u001b[0mlen\u001b[0m\u001b[1;33m(\u001b[0m\u001b[0m_\u001b[0m\u001b[1;33m[\u001b[0m\u001b[1;34m\"href\"\u001b[0m\u001b[1;33m]\u001b[0m\u001b[1;33m)\u001b[0m \u001b[1;33m>\u001b[0m \u001b[1;36m3\u001b[0m\u001b[1;33m]\u001b[0m\u001b[1;33m\u001b[0m\u001b[1;33m\u001b[0m\u001b[0m\n",
      "\u001b[1;32m<ipython-input-5-d45c1fdc692b>\u001b[0m in \u001b[0;36mdownload\u001b[1;34m(method, url, params, data, headers)\u001b[0m\n\u001b[0;32m      4\u001b[0m     \u001b[1;32mtry\u001b[0m\u001b[1;33m:\u001b[0m\u001b[1;33m\u001b[0m\u001b[1;33m\u001b[0m\u001b[0m\n\u001b[0;32m      5\u001b[0m         \u001b[0mresp\u001b[0m \u001b[1;33m=\u001b[0m \u001b[0mrequests\u001b[0m\u001b[1;33m.\u001b[0m\u001b[0mrequest\u001b[0m\u001b[1;33m(\u001b[0m\u001b[0mmethod\u001b[0m\u001b[1;33m,\u001b[0m \u001b[0murl\u001b[0m\u001b[1;33m,\u001b[0m \u001b[0mparams\u001b[0m\u001b[1;33m=\u001b[0m\u001b[0mparams\u001b[0m\u001b[1;33m,\u001b[0m\u001b[0mdata\u001b[0m\u001b[1;33m=\u001b[0m\u001b[0mdata\u001b[0m\u001b[1;33m,\u001b[0m\u001b[0mheaders\u001b[0m\u001b[1;33m=\u001b[0m\u001b[0mheaders\u001b[0m\u001b[1;33m)\u001b[0m\u001b[1;33m\u001b[0m\u001b[1;33m\u001b[0m\u001b[0m\n\u001b[1;32m----> 6\u001b[1;33m     \u001b[1;32mexcept\u001b[0m \u001b[0mrequests\u001b[0m\u001b[1;33m.\u001b[0m\u001b[0mexceptionsp\u001b[0m\u001b[1;33m.\u001b[0m\u001b[0mHTTPerror\u001b[0m \u001b[1;32mas\u001b[0m \u001b[0me\u001b[0m\u001b[1;33m:\u001b[0m\u001b[1;33m\u001b[0m\u001b[1;33m\u001b[0m\u001b[0m\n\u001b[0m\u001b[0;32m      7\u001b[0m         \u001b[0mprint\u001b[0m\u001b[1;33m(\u001b[0m\u001b[0me\u001b[0m\u001b[1;33m.\u001b[0m\u001b[0mcode\u001b[0m\u001b[1;33m)\u001b[0m\u001b[1;33m\u001b[0m\u001b[1;33m\u001b[0m\u001b[0m\n\u001b[0;32m      8\u001b[0m         \u001b[0mprint\u001b[0m\u001b[1;33m(\u001b[0m\u001b[0me\u001b[0m\u001b[1;33m.\u001b[0m\u001b[0mreason\u001b[0m\u001b[1;33m)\u001b[0m\u001b[1;33m\u001b[0m\u001b[1;33m\u001b[0m\u001b[0m\n",
      "\u001b[1;31mAttributeError\u001b[0m: module 'requests' has no attribute 'exceptionsp'"
     ]
    }
   ],
   "source": [
    "url = \"http://www.ppomppu.co.kr/zboard/zboard.php?id=ppomppu\"\n",
    "html = download(\"get\", url)\n",
    "dom = BeautifulSoup(html.text,\"lxml\")\n",
    "\n",
    "\n",
    "queue = list()\n",
    "queue.append([(_.find_parent()[\"href\"],1) for _ in dom.select(\".LC20lb\")])\n",
    "seen = list()\n",
    "queue.extend([(_[\"href\"],1) for _ in dom.select(\"#blogColl a.f_link_b\")])\n",
    "while queue:\n",
    "    baseURL = queue.pop(0)\n",
    "    seen.append(baseURL)\n",
    "    time.sleep(1)\n",
    "    linkList = parseURL(baseURL)\n",
    "    for link in linkList:\n",
    "        if link not in queue and link not in seen:\n",
    "            queue.append(link)\n",
    "    print(\"Queue: {0}, seen: {1}\".format(len(queue), len(seen)))"
   ]
  },
  {
   "cell_type": "code",
   "execution_count": 256,
   "metadata": {},
   "outputs": [
    {
     "name": "stdout",
     "output_type": "stream",
     "text": [
      "http://www.ppomppu.co.kr/zboard/zboard.php?id=freeboard&page=1\n",
      "30\n",
      "http://www.ppomppu.co.kr/zboard/zboard.php?id=freeboard&page=2\n",
      "58\n",
      "http://www.ppomppu.co.kr/zboard/zboard.php?id=freeboard&page=3\n",
      "86\n",
      "http://www.ppomppu.co.kr/zboard/zboard.php?id=freeboard&page=4\n",
      "114\n",
      "http://www.ppomppu.co.kr/zboard/zboard.php?id=freeboard&page=5\n",
      "142\n",
      "http://www.ppomppu.co.kr/zboard/zboard.php?id=freeboard&page=6\n",
      "170\n",
      "http://www.ppomppu.co.kr/zboard/zboard.php?id=freeboard&page=7\n",
      "198\n",
      "http://www.ppomppu.co.kr/zboard/zboard.php?id=freeboard&page=8\n",
      "226\n",
      "http://www.ppomppu.co.kr/zboard/zboard.php?id=freeboard&page=9\n",
      "254\n",
      "http://www.ppomppu.co.kr/zboard/zboard.php?id=freeboard&page=10\n",
      "282\n"
     ]
    },
    {
     "data": {
      "text/plain": [
       "'    \\nwhile queue:\\n    subURL = queue.pop(0)\\n    subhtml = download(\"get\", subURL) # 서브 페이지 download\\n    subdom = BeautifulSoup(subhtml.text,\"lxml\") # 서브페이지 돔 생성    \\n    for tr in subdom.select(\"div[class=container]\"):\\n        con = tr.select(\"meta[content]\")[2].attrs[\"content\"] #본문\\n        title = tr.select(\"meta[content]\")[1].attrs[\"content\"] #제목\\n        texList = list()\\n        for tex in tr.select(\"div.han\"):\\n            texList.append(tex.text)\\n        \\n        print(\"title = \",title, \"content = \",con, \"textList = \",texList  )\\n        \\n'"
      ]
     },
     "execution_count": 256,
     "metadata": {},
     "output_type": "execute_result"
    }
   ],
   "source": [
    "\n",
    "url = \"http://www.ppomppu.co.kr/zboard/zboard.php?id=freeboard&page=\"\n",
    "urlList = [ url+str(a) for a in range(1,11)]\n",
    "\n",
    "queue = list()\n",
    "\n",
    "while urlList:\n",
    "    baseURL = urlList.pop(0)\n",
    "    print(baseURL)\n",
    "    basehtml = download(\"get\", baseURL) # 메인 페이지 download\n",
    "    basedom = BeautifulSoup(basehtml.text,\"lxml\") # 메인페이지 돔 생성\n",
    "    \n",
    "    for tr in basedom.select(\"td:nth-of-type(3).list_vspace\")[2:]:\n",
    "        # td = tr.find_all(\"td\",recursive=False)\n",
    "        # print(tr.select(\"a\")[0].attrs[\"href\"])\n",
    "        queue.append(requests.compat.urljoin(url,tr.select(\"a\")[0].attrs[\"href\"]))\n",
    "'''    \n",
    "while queue:\n",
    "    subURL = queue.pop(0)\n",
    "    subhtml = download(\"get\", subURL) # 서브 페이지 download\n",
    "    subdom = BeautifulSoup(subhtml.text,\"lxml\") # 서브페이지 돔 생성    \n",
    "    for tr in subdom.select(\"div[class=container]\"):\n",
    "        con = tr.select(\"meta[content]\")[2].attrs[\"content\"] #본문\n",
    "        title = tr.select(\"meta[content]\")[1].attrs[\"content\"] #제목\n",
    "        texList = list()\n",
    "        for tex in tr.select(\"div.han\"):\n",
    "            texList.append(tex.text)\n",
    "        \n",
    "        print(\"title = \",title, \"content = \",con, \"textList = \",texList  )\n",
    "        \n",
    "'''"
   ]
  },
  {
   "cell_type": "code",
   "execution_count": 250,
   "metadata": {},
   "outputs": [
    {
     "data": {
      "text/plain": [
       "282"
      ]
     },
     "execution_count": 250,
     "metadata": {},
     "output_type": "execute_result"
    }
   ],
   "source": [
    "len(queue)"
   ]
  },
  {
   "cell_type": "code",
   "execution_count": 228,
   "metadata": {},
   "outputs": [],
   "source": [
    "url = \"http://www.ppomppu.co.kr/zboard/zboard.php?id=freeboard&page=5&divpage=1221&no=6543020\"\n",
    "html = download(\"get\", url)\n",
    "dom = BeautifulSoup(html.text,\"lxml\")"
   ]
  },
  {
   "cell_type": "code",
   "execution_count": 230,
   "metadata": {},
   "outputs": [
    {
     "name": "stdout",
     "output_type": "stream",
     "text": [
      "title =  그 배달...늦지 않길 빌어요... content =        경찰은 제가 맡을게요...어서가요....!\n"
     ]
    }
   ],
   "source": [
    "for tr in dom.select(\"div[class=container]\"):\n",
    "    con = tr.select(\"meta[content]\")[2].attrs[\"content\"] #본문\n",
    "    title = tr.select(\"meta[content]\")[1].attrs[\"content\"] #제목\n",
    "    print(\"title = \",title, \"content = \",con)"
   ]
  },
  {
   "cell_type": "code",
   "execution_count": 236,
   "metadata": {},
   "outputs": [
    {
     "name": "stdout",
     "output_type": "stream",
     "text": [
      "['ㅋㅋㅋㅋ', '도로가 혼란스럽네ㅋㅋ', 'ㅋㅋㅋㅋㅋㅋ', '제목 ㅋㅋㅋㅋ', '핫게 가있음 ㅋ', '제목이 살렸네요ㅋㅋㅋ', '\\nhttp://m.ppomppu.co.kr/new/bbs_view.php?id=freeboard&no=6542376&page=1&keyword=%B1%D7+%2B%B9%E8%B4%DE\\n\\n\\xa0\\n복붙? 음...', '이거 한 6번 나온듯요', '복붙으로 몇번쨔인지...', '네 다음 포농']\n"
     ]
    }
   ],
   "source": [
    "tr = dom.select(\"div[class=container]\")\n",
    "# tr[0].select(\"meta[content]\")[2].attrs[\"content\"] #본문\n",
    "# tr[0].select(\"meta[content]\")[1].attrs[\"content\"] #제목\n",
    "texList = list()\n",
    "for tex in tr[0].select(\"div.han\"):\n",
    "    texList.append(tex.text)\n",
    "print(texList)    "
   ]
  },
  {
   "cell_type": "code",
   "execution_count": 254,
   "metadata": {},
   "outputs": [],
   "source": [
    "import sqlite3"
   ]
  },
  {
   "cell_type": "code",
   "execution_count": 275,
   "metadata": {},
   "outputs": [
    {
     "data": {
      "text/plain": [
       "<sqlite3.Cursor at 0x1662bb3fab0>"
      ]
     },
     "execution_count": 275,
     "metadata": {},
     "output_type": "execute_result"
    }
   ],
   "source": [
    "con = sqlite3.connect(\"bot2.db\")\n",
    "cur = con.cursor()\n",
    "\n",
    "cur.executescript(\"\"\"\n",
    "    DROP TABLE IF EXISTS table3;\n",
    "    CREATE TABLE table3(\n",
    "        id INTEGER PRIMARY KEY AUTOINCREMENT NOT NULL,\n",
    "        title TEXT NOT NULL,\n",
    "        content TEXXT NOT NULL,\n",
    "        date TIMESTAMP DEFAULT CURRENT_TIMESTAMP NOT NULL\n",
    "    );\n",
    "    \n",
    "    DROP TABLE IF EXISTS table4;\n",
    "    CREATE TABLE table4(\n",
    "        id INTEGER PRIMARY KEY AUTOINCREMENT NOT NULL,\n",
    "        table3_id INTEGER NOT NULL,\n",
    "        comment TEXT NOT NULL\n",
    "    );   \n",
    "\"\"\")"
   ]
  },
  {
   "cell_type": "markdown",
   "metadata": {},
   "source": [
    "focused crawling\n",
    "각페이지 게시글 부분의 a\n",
    "수집된 a로부터 scraping\n",
    "\n",
    "제목 내용 댓글"
   ]
  },
  {
   "cell_type": "code",
   "execution_count": 264,
   "metadata": {},
   "outputs": [],
   "source": [
    "def parseContent(url):\n",
    "    html = download(\"get\", url)\n",
    "    dom = BeautifulSoup(html.text, \"lxml\")\n",
    "    \n",
    "    return {\"title\":dom.select_one(\"font.view_title2\").text.strip(),\n",
    "            \"body\":dom.select_one(\"td.board-contents\").text.strip(),\n",
    "           \"comments\":[_.text.strip() for _ in dom.select(\"div[id^=commentContent_]\")]}"
   ]
  },
  {
   "cell_type": "code",
   "execution_count": 265,
   "metadata": {},
   "outputs": [
    {
     "data": {
      "text/plain": [
       "<sqlite3.Cursor at 0x1662b431880>"
      ]
     },
     "execution_count": 265,
     "metadata": {},
     "output_type": "execute_result"
    }
   ],
   "source": [
    "cur"
   ]
  },
  {
   "cell_type": "code",
   "execution_count": 276,
   "metadata": {},
   "outputs": [],
   "source": [
    "# content = list()\n",
    "while queue:\n",
    "    subURL = queue.pop(0)\n",
    "    subhtml = download(\"get\", subURL) # 서브 페이지 download\n",
    "    subdom = BeautifulSoup(subhtml.text,\"lxml\") # 서브페이지 돔 생성    \n",
    "    for tr in subdom.select(\"div[class=container]\"):\n",
    "        comnt = tr.select(\"meta[content]\")[2].attrs[\"content\"] #본문\n",
    "        title = tr.select(\"meta[content]\")[1].attrs[\"content\"] #제목\n",
    "        texList = list()\n",
    "        for tex in tr.select(\"div.han\"):\n",
    "            texList.append(tex.text)\n",
    "            \n",
    "    \n",
    "    cur.execute(\"\"\"\n",
    "        INSERT INTO table3 (title, content)\n",
    "        VALUES (?,?)\n",
    "    \"\"\", [title, comnt])\n",
    "    con.commit()\n",
    "    \n",
    "    cur.execute(\"\"\"\n",
    "        SELECT id FROM table3\n",
    "        WHERE title=? AND content=?;\n",
    "    \"\"\", [title, comnt])\n",
    "    table3_id = cur.fetchone()[0]\n",
    "    \n",
    "    for comment in texList:\n",
    "        cur.execute(\"\"\"\n",
    "            INSERT INTO table4\n",
    "            (table3_id, comment) VALUES (?, ?)\n",
    "        \"\"\", [table3_id, comment])\n",
    "    con.commit()"
   ]
  },
  {
   "cell_type": "code",
   "execution_count": 274,
   "metadata": {},
   "outputs": [],
   "source": [
    "cur.close()\n",
    "con.close()"
   ]
  },
  {
   "cell_type": "code",
   "execution_count": 270,
   "metadata": {},
   "outputs": [
    {
     "name": "stdout",
     "output_type": "stream",
     "text": [
      "그들의 짓 아님 혹\n",
      "어그제까지 활발하게 일제불매운동 반대 하신분이신데왜 갑자기 자살을 하셨는지 궁금하네요.&nbs\n",
      "잘못 떨어지면 교도소 안이고 운좋으면 교도소 밖으로 떨어지는 위험한 직업이라는의미 였었죠.요\n",
      "리스트 비슷하게 정리된거였는데제가 생각했던것보다 훨씬 많아서 놀랬는데자살하신? 분들\n",
      "스시집인가 일식집인가 여의도이 낸지도 얼마 안된거같은데...날도 구린데 등산갔다 실족사는 아닐\n",
      "방송에서 관심있게 많이 보고 했던분인데삼가고인의 명복을 비네요 ㅜㅜ\n",
      "1보라 내용은 없네요유서가 있군요\n",
      "지우신다고 해결안됩니다.늦었어요........그리고&n\n",
      "자살할분은 아니었던것 같은대;;\n",
      "진짜 뜬금포네요\n",
      "저도 유니클로 탈퇴 동참합니다   \n",
      "이게뭐죠나름 유명한 정치인이고얼굴도 유명한데뭔일이죠\n",
      "*주의* 홍보글아님..티비에서도 핫하다고 말이 많고..sns에서도 핫하길래.. (어제 민경훈이랑 이상\n",
      "뭐죠????와 뭔가 섬��\n",
      "라디오나 TV나 엄청 왕성하게 나오던 사람인데자살을 할리가.....속사정이야 모르는 거지\n",
      "문정부 반격의 시작일까요?국정원이 일도하는군요전 하던 개싸움이나 더 잘해보렵니다&nb\n",
      "한곳만 오랫동안 쓰다보니 많이 올라왔네요~   \n",
      "여기를 눌러 링크를 확인하세요\n",
      "1보라 내용은 없습니다.\n",
      "좆선일보의 눈으로 한국을 해석하고 이해함.참고로, 좆선일보 일본어판은, 과거 일\n",
      "속보입니다. 아직 내용은 없습니다\n",
      "전 새누리당 의원산에서 숨진채 발견속보라 정확한 기사는 안올라온 상태입니다.\n",
      "   와 이쁘다\n"
     ]
    },
    {
     "ename": "KeyboardInterrupt",
     "evalue": "",
     "output_type": "error",
     "traceback": [
      "\u001b[1;31m---------------------------------------------------------------------------\u001b[0m",
      "\u001b[1;31mKeyboardInterrupt\u001b[0m                         Traceback (most recent call last)",
      "\u001b[1;32m<ipython-input-270-634f256c29ef>\u001b[0m in \u001b[0;36m<module>\u001b[1;34m\u001b[0m\n\u001b[0;32m      4\u001b[0m     \u001b[0msubdom\u001b[0m \u001b[1;33m=\u001b[0m \u001b[0mBeautifulSoup\u001b[0m\u001b[1;33m(\u001b[0m\u001b[0msubhtml\u001b[0m\u001b[1;33m.\u001b[0m\u001b[0mtext\u001b[0m\u001b[1;33m,\u001b[0m\u001b[1;34m\"lxml\"\u001b[0m\u001b[1;33m)\u001b[0m \u001b[1;31m# 서브페이지 돔 생성\u001b[0m\u001b[1;33m\u001b[0m\u001b[1;33m\u001b[0m\u001b[0m\n\u001b[0;32m      5\u001b[0m     \u001b[1;32mfor\u001b[0m \u001b[0mtr\u001b[0m \u001b[1;32min\u001b[0m \u001b[0msubdom\u001b[0m\u001b[1;33m.\u001b[0m\u001b[0mselect\u001b[0m\u001b[1;33m(\u001b[0m\u001b[1;34m\"div[class=container]\"\u001b[0m\u001b[1;33m)\u001b[0m\u001b[1;33m:\u001b[0m\u001b[1;33m\u001b[0m\u001b[1;33m\u001b[0m\u001b[0m\n\u001b[1;32m----> 6\u001b[1;33m         \u001b[0mcomnt\u001b[0m \u001b[1;33m=\u001b[0m \u001b[0mtr\u001b[0m\u001b[1;33m.\u001b[0m\u001b[0mselect\u001b[0m\u001b[1;33m(\u001b[0m\u001b[1;34m\"meta[content]\"\u001b[0m\u001b[1;33m)\u001b[0m\u001b[1;33m[\u001b[0m\u001b[1;36m2\u001b[0m\u001b[1;33m]\u001b[0m\u001b[1;33m.\u001b[0m\u001b[0mattrs\u001b[0m\u001b[1;33m[\u001b[0m\u001b[1;34m\"content\"\u001b[0m\u001b[1;33m]\u001b[0m \u001b[1;31m#본문\u001b[0m\u001b[1;33m\u001b[0m\u001b[1;33m\u001b[0m\u001b[0m\n\u001b[0m\u001b[0;32m      7\u001b[0m         \u001b[0mtitle\u001b[0m \u001b[1;33m=\u001b[0m \u001b[0mtr\u001b[0m\u001b[1;33m.\u001b[0m\u001b[0mselect\u001b[0m\u001b[1;33m(\u001b[0m\u001b[1;34m\"meta[content]\"\u001b[0m\u001b[1;33m)\u001b[0m\u001b[1;33m[\u001b[0m\u001b[1;36m1\u001b[0m\u001b[1;33m]\u001b[0m\u001b[1;33m.\u001b[0m\u001b[0mattrs\u001b[0m\u001b[1;33m[\u001b[0m\u001b[1;34m\"content\"\u001b[0m\u001b[1;33m]\u001b[0m \u001b[1;31m#제목\u001b[0m\u001b[1;33m\u001b[0m\u001b[1;33m\u001b[0m\u001b[0m\n\u001b[0;32m      8\u001b[0m         \u001b[0mtexList\u001b[0m \u001b[1;33m=\u001b[0m \u001b[0mlist\u001b[0m\u001b[1;33m(\u001b[0m\u001b[1;33m)\u001b[0m\u001b[1;33m\u001b[0m\u001b[1;33m\u001b[0m\u001b[0m\n",
      "\u001b[1;32mC:\\ProgramData\\Anaconda3\\lib\\site-packages\\bs4\\element.py\u001b[0m in \u001b[0;36mselect\u001b[1;34m(self, selector, namespaces, limit, **kwargs)\u001b[0m\n\u001b[0;32m   1374\u001b[0m             )\n\u001b[0;32m   1375\u001b[0m \u001b[1;33m\u001b[0m\u001b[0m\n\u001b[1;32m-> 1376\u001b[1;33m         \u001b[1;32mreturn\u001b[0m \u001b[0msoupsieve\u001b[0m\u001b[1;33m.\u001b[0m\u001b[0mselect\u001b[0m\u001b[1;33m(\u001b[0m\u001b[0mselector\u001b[0m\u001b[1;33m,\u001b[0m \u001b[0mself\u001b[0m\u001b[1;33m,\u001b[0m \u001b[0mnamespaces\u001b[0m\u001b[1;33m,\u001b[0m \u001b[0mlimit\u001b[0m\u001b[1;33m,\u001b[0m \u001b[1;33m**\u001b[0m\u001b[0mkwargs\u001b[0m\u001b[1;33m)\u001b[0m\u001b[1;33m\u001b[0m\u001b[1;33m\u001b[0m\u001b[0m\n\u001b[0m\u001b[0;32m   1377\u001b[0m \u001b[1;33m\u001b[0m\u001b[0m\n\u001b[0;32m   1378\u001b[0m     \u001b[1;31m# Old names for backwards compatibility\u001b[0m\u001b[1;33m\u001b[0m\u001b[1;33m\u001b[0m\u001b[1;33m\u001b[0m\u001b[0m\n",
      "\u001b[1;32mC:\\ProgramData\\Anaconda3\\lib\\site-packages\\soupsieve\\__init__.py\u001b[0m in \u001b[0;36mselect\u001b[1;34m(select, tag, namespaces, limit, flags, **kwargs)\u001b[0m\n\u001b[0;32m    110\u001b[0m     \u001b[1;34m\"\"\"Select the specified tags.\"\"\"\u001b[0m\u001b[1;33m\u001b[0m\u001b[1;33m\u001b[0m\u001b[0m\n\u001b[0;32m    111\u001b[0m \u001b[1;33m\u001b[0m\u001b[0m\n\u001b[1;32m--> 112\u001b[1;33m     \u001b[1;32mreturn\u001b[0m \u001b[0mcompile\u001b[0m\u001b[1;33m(\u001b[0m\u001b[0mselect\u001b[0m\u001b[1;33m,\u001b[0m \u001b[0mnamespaces\u001b[0m\u001b[1;33m,\u001b[0m \u001b[0mflags\u001b[0m\u001b[1;33m,\u001b[0m \u001b[1;33m**\u001b[0m\u001b[0mkwargs\u001b[0m\u001b[1;33m)\u001b[0m\u001b[1;33m.\u001b[0m\u001b[0mselect\u001b[0m\u001b[1;33m(\u001b[0m\u001b[0mtag\u001b[0m\u001b[1;33m,\u001b[0m \u001b[0mlimit\u001b[0m\u001b[1;33m)\u001b[0m\u001b[1;33m\u001b[0m\u001b[1;33m\u001b[0m\u001b[0m\n\u001b[0m\u001b[0;32m    113\u001b[0m \u001b[1;33m\u001b[0m\u001b[0m\n\u001b[0;32m    114\u001b[0m \u001b[1;33m\u001b[0m\u001b[0m\n",
      "\u001b[1;32mC:\\ProgramData\\Anaconda3\\lib\\site-packages\\soupsieve\\css_match.py\u001b[0m in \u001b[0;36mselect\u001b[1;34m(self, tag, limit)\u001b[0m\n\u001b[0;32m   1311\u001b[0m         \u001b[1;34m\"\"\"Select the specified tags.\"\"\"\u001b[0m\u001b[1;33m\u001b[0m\u001b[1;33m\u001b[0m\u001b[0m\n\u001b[0;32m   1312\u001b[0m \u001b[1;33m\u001b[0m\u001b[0m\n\u001b[1;32m-> 1313\u001b[1;33m         \u001b[1;32mreturn\u001b[0m \u001b[0mlist\u001b[0m\u001b[1;33m(\u001b[0m\u001b[0mself\u001b[0m\u001b[1;33m.\u001b[0m\u001b[0miselect\u001b[0m\u001b[1;33m(\u001b[0m\u001b[0mtag\u001b[0m\u001b[1;33m,\u001b[0m \u001b[0mlimit\u001b[0m\u001b[1;33m)\u001b[0m\u001b[1;33m)\u001b[0m\u001b[1;33m\u001b[0m\u001b[1;33m\u001b[0m\u001b[0m\n\u001b[0m\u001b[0;32m   1314\u001b[0m \u001b[1;33m\u001b[0m\u001b[0m\n\u001b[0;32m   1315\u001b[0m     \u001b[1;32mdef\u001b[0m \u001b[0miselect\u001b[0m\u001b[1;33m(\u001b[0m\u001b[0mself\u001b[0m\u001b[1;33m,\u001b[0m \u001b[0mtag\u001b[0m\u001b[1;33m,\u001b[0m \u001b[0mlimit\u001b[0m\u001b[1;33m=\u001b[0m\u001b[1;36m0\u001b[0m\u001b[1;33m)\u001b[0m\u001b[1;33m:\u001b[0m\u001b[1;33m\u001b[0m\u001b[1;33m\u001b[0m\u001b[0m\n",
      "\u001b[1;32mC:\\ProgramData\\Anaconda3\\lib\\site-packages\\soupsieve\\css_match.py\u001b[0m in \u001b[0;36miselect\u001b[1;34m(self, tag, limit)\u001b[0m\n\u001b[0;32m   1316\u001b[0m         \u001b[1;34m\"\"\"Iterate the specified tags.\"\"\"\u001b[0m\u001b[1;33m\u001b[0m\u001b[1;33m\u001b[0m\u001b[0m\n\u001b[0;32m   1317\u001b[0m \u001b[1;33m\u001b[0m\u001b[0m\n\u001b[1;32m-> 1318\u001b[1;33m         \u001b[1;32mfor\u001b[0m \u001b[0mel\u001b[0m \u001b[1;32min\u001b[0m \u001b[0mCSSMatch\u001b[0m\u001b[1;33m(\u001b[0m\u001b[0mself\u001b[0m\u001b[1;33m.\u001b[0m\u001b[0mselectors\u001b[0m\u001b[1;33m,\u001b[0m \u001b[0mtag\u001b[0m\u001b[1;33m,\u001b[0m \u001b[0mself\u001b[0m\u001b[1;33m.\u001b[0m\u001b[0mnamespaces\u001b[0m\u001b[1;33m,\u001b[0m \u001b[0mself\u001b[0m\u001b[1;33m.\u001b[0m\u001b[0mflags\u001b[0m\u001b[1;33m)\u001b[0m\u001b[1;33m.\u001b[0m\u001b[0mselect\u001b[0m\u001b[1;33m(\u001b[0m\u001b[0mlimit\u001b[0m\u001b[1;33m)\u001b[0m\u001b[1;33m:\u001b[0m\u001b[1;33m\u001b[0m\u001b[1;33m\u001b[0m\u001b[0m\n\u001b[0m\u001b[0;32m   1319\u001b[0m             \u001b[1;32myield\u001b[0m \u001b[0mel\u001b[0m\u001b[1;33m\u001b[0m\u001b[1;33m\u001b[0m\u001b[0m\n\u001b[0;32m   1320\u001b[0m \u001b[1;33m\u001b[0m\u001b[0m\n",
      "\u001b[1;32mC:\\ProgramData\\Anaconda3\\lib\\site-packages\\soupsieve\\css_match.py\u001b[0m in \u001b[0;36mselect\u001b[1;34m(self, limit)\u001b[0m\n\u001b[0;32m   1194\u001b[0m \u001b[1;33m\u001b[0m\u001b[0m\n\u001b[0;32m   1195\u001b[0m         \u001b[1;32mfor\u001b[0m \u001b[0mchild\u001b[0m \u001b[1;32min\u001b[0m \u001b[0mself\u001b[0m\u001b[1;33m.\u001b[0m\u001b[0mget_descendants\u001b[0m\u001b[1;33m(\u001b[0m\u001b[0mself\u001b[0m\u001b[1;33m.\u001b[0m\u001b[0mtag\u001b[0m\u001b[1;33m)\u001b[0m\u001b[1;33m:\u001b[0m\u001b[1;33m\u001b[0m\u001b[1;33m\u001b[0m\u001b[0m\n\u001b[1;32m-> 1196\u001b[1;33m             \u001b[1;32mif\u001b[0m \u001b[0mself\u001b[0m\u001b[1;33m.\u001b[0m\u001b[0mmatch\u001b[0m\u001b[1;33m(\u001b[0m\u001b[0mchild\u001b[0m\u001b[1;33m)\u001b[0m\u001b[1;33m:\u001b[0m\u001b[1;33m\u001b[0m\u001b[1;33m\u001b[0m\u001b[0m\n\u001b[0m\u001b[0;32m   1197\u001b[0m                 \u001b[1;32myield\u001b[0m \u001b[0mchild\u001b[0m\u001b[1;33m\u001b[0m\u001b[1;33m\u001b[0m\u001b[0m\n\u001b[0;32m   1198\u001b[0m                 \u001b[1;32mif\u001b[0m \u001b[0mlimit\u001b[0m \u001b[1;32mis\u001b[0m \u001b[1;32mnot\u001b[0m \u001b[1;32mNone\u001b[0m\u001b[1;33m:\u001b[0m\u001b[1;33m\u001b[0m\u001b[1;33m\u001b[0m\u001b[0m\n",
      "\u001b[1;32mC:\\ProgramData\\Anaconda3\\lib\\site-packages\\soupsieve\\css_match.py\u001b[0m in \u001b[0;36mmatch\u001b[1;34m(self, el)\u001b[0m\n\u001b[0;32m   1221\u001b[0m         \u001b[1;34m\"\"\"Match.\"\"\"\u001b[0m\u001b[1;33m\u001b[0m\u001b[1;33m\u001b[0m\u001b[0m\n\u001b[0;32m   1222\u001b[0m \u001b[1;33m\u001b[0m\u001b[0m\n\u001b[1;32m-> 1223\u001b[1;33m         \u001b[1;32mreturn\u001b[0m \u001b[1;32mnot\u001b[0m \u001b[0mself\u001b[0m\u001b[1;33m.\u001b[0m\u001b[0mis_doc\u001b[0m\u001b[1;33m(\u001b[0m\u001b[0mel\u001b[0m\u001b[1;33m)\u001b[0m \u001b[1;32mand\u001b[0m \u001b[0mself\u001b[0m\u001b[1;33m.\u001b[0m\u001b[0mis_tag\u001b[0m\u001b[1;33m(\u001b[0m\u001b[0mel\u001b[0m\u001b[1;33m)\u001b[0m \u001b[1;32mand\u001b[0m \u001b[0mself\u001b[0m\u001b[1;33m.\u001b[0m\u001b[0mmatch_selectors\u001b[0m\u001b[1;33m(\u001b[0m\u001b[0mel\u001b[0m\u001b[1;33m,\u001b[0m \u001b[0mself\u001b[0m\u001b[1;33m.\u001b[0m\u001b[0mselectors\u001b[0m\u001b[1;33m)\u001b[0m\u001b[1;33m\u001b[0m\u001b[1;33m\u001b[0m\u001b[0m\n\u001b[0m\u001b[0;32m   1224\u001b[0m \u001b[1;33m\u001b[0m\u001b[0m\n\u001b[0;32m   1225\u001b[0m \u001b[1;33m\u001b[0m\u001b[0m\n",
      "\u001b[1;32mC:\\ProgramData\\Anaconda3\\lib\\site-packages\\soupsieve\\css_match.py\u001b[0m in \u001b[0;36mmatch_selectors\u001b[1;34m(self, el, selectors)\u001b[0m\n\u001b[0;32m   1129\u001b[0m                 \u001b[0mmatch\u001b[0m \u001b[1;33m=\u001b[0m \u001b[0mis_not\u001b[0m\u001b[1;33m\u001b[0m\u001b[1;33m\u001b[0m\u001b[0m\n\u001b[0;32m   1130\u001b[0m                 \u001b[1;31m# We have a un-matchable situation (like `:focus` as you can focus an element in this environment)\u001b[0m\u001b[1;33m\u001b[0m\u001b[1;33m\u001b[0m\u001b[1;33m\u001b[0m\u001b[0m\n\u001b[1;32m-> 1131\u001b[1;33m                 \u001b[1;32mif\u001b[0m \u001b[0misinstance\u001b[0m\u001b[1;33m(\u001b[0m\u001b[0mselector\u001b[0m\u001b[1;33m,\u001b[0m \u001b[0mct\u001b[0m\u001b[1;33m.\u001b[0m\u001b[0mSelectorNull\u001b[0m\u001b[1;33m)\u001b[0m\u001b[1;33m:\u001b[0m\u001b[1;33m\u001b[0m\u001b[1;33m\u001b[0m\u001b[0m\n\u001b[0m\u001b[0;32m   1132\u001b[0m                     \u001b[1;32mcontinue\u001b[0m\u001b[1;33m\u001b[0m\u001b[1;33m\u001b[0m\u001b[0m\n\u001b[0;32m   1133\u001b[0m                 \u001b[1;31m# Verify tag matches\u001b[0m\u001b[1;33m\u001b[0m\u001b[1;33m\u001b[0m\u001b[1;33m\u001b[0m\u001b[0m\n",
      "\u001b[1;31mKeyboardInterrupt\u001b[0m: "
     ]
    }
   ],
   "source": [
    "while queue:\n",
    "    subURL = queue.pop(0)\n",
    "    subhtml = download(\"get\", subURL) # 서브 페이지 download\n",
    "    subdom = BeautifulSoup(subhtml.text,\"lxml\") # 서브페이지 돔 생성    \n",
    "    for tr in subdom.select(\"div[class=container]\"):\n",
    "        comnt = tr.select(\"meta[content]\")[2].attrs[\"content\"] #본문\n",
    "        title = tr.select(\"meta[content]\")[1].attrs[\"content\"] #제목\n",
    "        texList = list()\n",
    "        for tex in tr.select(\"div.han\"):\n",
    "            texList.append(tex.text)\n",
    "            \n",
    "    print(comnt)"
   ]
  },
  {
   "cell_type": "code",
   "execution_count": null,
   "metadata": {},
   "outputs": [],
   "source": []
  }
 ],
 "metadata": {
  "kernelspec": {
   "display_name": "Python 3",
   "language": "python",
   "name": "python3"
  },
  "language_info": {
   "codemirror_mode": {
    "name": "ipython",
    "version": 3
   },
   "file_extension": ".py",
   "mimetype": "text/x-python",
   "name": "python",
   "nbconvert_exporter": "python",
   "pygments_lexer": "ipython3",
   "version": "3.7.3"
  }
 },
 "nbformat": 4,
 "nbformat_minor": 2
}
